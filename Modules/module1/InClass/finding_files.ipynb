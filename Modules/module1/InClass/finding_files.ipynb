{
 "cells": [
  {
   "cell_type": "markdown",
   "metadata": {},
   "source": [
    "<html>\n",
    "<table width=\"100%\" cellspacing=\"2\" cellpadding=\"2\" border=\"1\">\n",
    "<tbody>\n",
    "<tr>\n",
    "<td valign=\"center\" align=\"center\" width=\"25%\"><img src=\"../../../media/decartes.jpg\"\n",
    "alt=\"DeCART Icon\" width=\"128\" height=\"171\"><br>\n",
    "</td>\n",
    "<td valign=\"center\" align=\"center\" width=\"75%\">\n",
    "<h1 align=\"center\"><font size=\"+1\">DeCART Summer School<br>\n",
    "for<br>\n",
    "Biomedical Data Science</font></h1></td>\n",
    "<td valign=\"center\" align=\"center\" width=\"25%\"><img\n",
    "src=\"../../../media/U_Health_stacked_png_red.png\" alt=\"Utah Health\n",
    "Logo\" width=\"128\" height=\"134\"><br>\n",
    "</td>\n",
    "</tr>\n",
    "</tbody>\n",
    "</table>\n",
    "<br>\n",
    "</html>"
   ]
  },
  {
   "cell_type": "markdown",
   "metadata": {},
   "source": [
    "# Finding things\n",
    "\n",
    "One of the recurring challenges we face is finding the files with content that we are interested in. In the simplest case, this search would be based on the filename. More complicated searches would be based on the content. Once we can find content in files, then we can extract the relevant data from the files.\n",
    "\n",
    "In this notebook, we will explore the following Unix tools:\n",
    "\n",
    "* [``find``](https://en.wikibooks.org/wiki/Guide_to_Unix/Commands/Finding_Files)\n",
    "* [``grep``]()\n",
    "\n",
    "### Some highlights\n",
    "* ``find``: find files with names matching some criteria\n",
    "* ``grep``: look for patterns within files\n",
    "\n",
    "I frequently use ``grep`` and ``find`` together to find where I've used particular code snippets.\n"
   ]
  },
  {
   "cell_type": "markdown",
   "metadata": {},
   "source": [
    "### Using Python for quizzes \n",
    "\n",
    "We're going to import some Python code here that we will use later to evaluate quizzes."
   ]
  },
  {
   "cell_type": "code",
   "execution_count": 1,
   "metadata": {},
   "outputs": [],
   "source": [
    "from finding_quizzes import *"
   ]
  },
  {
   "cell_type": "markdown",
   "metadata": {},
   "source": [
    "## ``find``\n",
    "\n",
    "``find``, as the name implies, finds files. The syntax for ``find`` is as follows:\n",
    "\n",
    "```bash\n",
    "find path_to_start_search [optional expression(s)]\n",
    "```\n",
    "\n",
    "#### Note: In newer versions of Unix/Linux the results are printed by default. In older versions, you need to provide a `-print` option.\n",
    "\n",
    "If I do not provide any expressions, all files under the specified print will be found."
   ]
  },
  {
   "cell_type": "code",
   "execution_count": 2,
   "metadata": {},
   "outputs": [
    {
     "name": "stdout",
     "output_type": "stream",
     "text": [
      ".\n",
      "./launching_terminal.ipynb\n",
      "./navigating_file_system.ipynb\n",
      "./pipes.ipynb\n",
      "./__pycache__\n",
      "./__pycache__/finding_quizzes.cpython-35.pyc\n",
      "./OutbreakDetection\n",
      "./OutbreakDetection/ChiefComplaints\n",
      "./OutbreakDetection/Sales\n",
      "./OutbreakDetection/SocialMedia\n",
      "./OutbreakDetection/SocialMedia/Twitter\n",
      "./OutbreakDetection/Obituaries\n",
      "./environment_variables.ipynb\n",
      "./Index.ipynb\n",
      "./.ipynb_checkpoints\n",
      "./.ipynb_checkpoints/introducing_shells-checkpoint.ipynb\n",
      "./.ipynb_checkpoints/finding_files-checkpoint.ipynb\n",
      "./.ipynb_checkpoints/navigating_file_system-checkpoint.ipynb\n",
      "./ls\n",
      "./Untitled.ipynb\n",
      "./navigating_quizzes.py\n",
      "./pipes_quizzes.py\n",
      "./finding_files.ipynb\n",
      "./finding_quizzes.py\n",
      "./introducing_shells.ipynb\n"
     ]
    }
   ],
   "source": [
    "%%bash\n",
    "\n",
    "find . "
   ]
  },
  {
   "cell_type": "markdown",
   "metadata": {},
   "source": [
    "### ``-name``\n",
    "\n",
    "Finding all the files, is probably not too helpful in general. Finding files with a certain name would be more useful.\n",
    "\n",
    "#### Example: Finding all files named ``python`` in the file system"
   ]
  },
  {
   "cell_type": "code",
   "execution_count": 3,
   "metadata": {},
   "outputs": [
    {
     "name": "stdout",
     "output_type": "stream",
     "text": [
      "Process is interrupted.\n"
     ]
    }
   ],
   "source": [
    "%%bash\n",
    "\n",
    "find / -name 'python'"
   ]
  },
  {
   "cell_type": "markdown",
   "metadata": {},
   "source": [
    "#### Why are we getting these ``Permission denied`` errors?"
   ]
  },
  {
   "cell_type": "code",
   "execution_count": 4,
   "metadata": {},
   "outputs": [
    {
     "name": "stdout",
     "output_type": "stream",
     "text": [
      "Process is interrupted.\n"
     ]
    }
   ],
   "source": [
    "%%bash\n",
    "find ~ -name 'README'"
   ]
  },
  {
   "cell_type": "markdown",
   "metadata": {},
   "source": [
    "### ``-iname``\n",
    "\n",
    "Linux/Unix is case sensitive, so if I want to find files matching a name, ignoring case, I use ``-iname`` rather than ``-name``."
   ]
  },
  {
   "cell_type": "code",
   "execution_count": 6,
   "metadata": {},
   "outputs": [
    {
     "name": "stdout",
     "output_type": "stream",
     "text": [
      "/opt/conda/etc/fonts/conf.d/README\n",
      "/opt/conda/lib/tk8.6/images/README\n",
      "/opt/conda/lib/tk8.6/demos/README\n",
      "/opt/conda/lib/python3.5/site-packages/README\n",
      "/opt/conda/lib/python3.5/site-packages/jupyterhub/alembic/README\n",
      "/opt/conda/lib/python3.5/site-packages/nbgrader/alembic/README\n",
      "/opt/conda/lib/python3.5/site-packages/scipy/special/tests/data/README\n",
      "/opt/conda/lib/python3.5/site-packages/scipy/optimize/lbfgsb/README\n",
      "/opt/conda/lib/python3.5/site-packages/alembic/templates/multidb/README\n",
      "/opt/conda/lib/python3.5/site-packages/alembic/templates/generic/README\n",
      "/opt/conda/lib/python3.5/site-packages/alembic/templates/pylons/README\n",
      "/opt/conda/lib/python3.5/distutils/README\n",
      "/opt/conda/lib/python3.5/lib2to3/tests/data/README\n",
      "/opt/conda/lib/R/library/rmarkdown/rmd/h/jqueryui-1.11.4/README\n",
      "/opt/conda/lib/R/library/RcppArmadillo/include/README\n",
      "/opt/conda/lib/R/library/Rcpp/README\n",
      "/opt/conda/lib/R/library/Rcpp/examples/functionCallback/README\n",
      "/opt/conda/lib/R/library/RCurl/etc/README\n",
      "/opt/conda/lib/R/library/shiny/www/shared/jqueryui/README\n",
      "/opt/conda/lib/R/library/pbdZMQ/examples/README\n",
      "/opt/conda/lib/R/library/nlme/mlbook/README\n",
      "/opt/conda/lib/R/library/grDevices/afm/README\n",
      "/opt/conda/lib/R/share/java/README\n",
      "/opt/conda/lib/node_modules/npm/node_modules/node-gyp/gyp/tools/README\n",
      "/opt/conda/lib/node_modules/npm/node_modules/node-gyp/gyp/tools/Xcode/README\n",
      "/opt/conda/lib/node_modules/npm/node_modules/node-gyp/gyp/tools/emacs/README\n",
      "/opt/conda/lib/node_modules/npm/node_modules/node-gyp/gyp/buildbot/commit_queue/README\n",
      "/opt/conda/share/doc/readline/README\n",
      "/opt/conda/share/doc/xz/README\n",
      "/opt/conda/share/doc/libssh2/README\n",
      "/opt/conda/share/doc/mpfr/examples/ReadMe\n",
      "/opt/conda/share/doc/gettext/examples/README\n",
      "/opt/conda/share/doc/gettext/examples/hello-php/README\n",
      "/opt/conda/share/doc/gettext/examples/hello-csharp-forms/README\n",
      "/opt/conda/pkgs/tk-8.6.7-0/lib/tk8.6/images/README\n",
      "/opt/conda/pkgs/tk-8.6.7-0/lib/tk8.6/demos/README\n",
      "/opt/conda/pkgs/python-3.6.5-1/lib/python3.6/distutils/README\n",
      "/opt/conda/pkgs/python-3.6.5-1/lib/python3.6/lib2to3/tests/data/README\n",
      "/opt/conda/pkgs/xz-5.2.3-0/share/doc/xz/README\n",
      "/opt/conda/pkgs/readline-7.0-0/share/doc/readline/README\n",
      "/opt/conda/pkgs/nbgrader-0.5.4-py35_0/lib/python3.5/site-packages/nbgrader/alembic/README\n",
      "/opt/conda/pkgs/jupyterhub-0.8.1-py35_0/lib/python3.5/site-packages/jupyterhub/alembic/README\n",
      "/opt/conda/pkgs/python-3.5.5-1/lib/python3.5/site-packages/README\n",
      "/opt/conda/pkgs/python-3.5.5-1/lib/python3.5/distutils/README\n",
      "/opt/conda/pkgs/python-3.5.5-1/lib/python3.5/lib2to3/tests/data/README\n",
      "/opt/conda/pkgs/scipy-1.1.0-py35_blas_openblas_200/lib/python3.5/site-packages/scipy/special/tests/data/README\n",
      "/opt/conda/pkgs/scipy-1.1.0-py35_blas_openblas_200/lib/python3.5/site-packages/scipy/optimize/lbfgsb/README\n",
      "/opt/conda/pkgs/alembic-0.9.9-py_0/site-packages/alembic/templates/multidb/README\n",
      "/opt/conda/pkgs/alembic-0.9.9-py_0/site-packages/alembic/templates/generic/README\n",
      "/opt/conda/pkgs/alembic-0.9.9-py_0/site-packages/alembic/templates/pylons/README\n",
      "/opt/conda/pkgs/r-rcurl-1.95_4.8-r3.4.1_0/lib/R/library/RCurl/etc/README\n",
      "/opt/conda/pkgs/r-shiny-1.0.5-r3.4.1_0/lib/R/library/shiny/www/shared/jqueryui/README\n",
      "/opt/conda/pkgs/r-rcpp-0.12.15-r3.4.1_0/lib/R/library/Rcpp/README\n",
      "/opt/conda/pkgs/r-rcpp-0.12.15-r3.4.1_0/lib/R/library/Rcpp/examples/functionCallback/README\n",
      "/opt/conda/pkgs/r-rcpparmadillo-0.8.500.0-r3.4.1_0/lib/R/library/RcppArmadillo/include/README\n",
      "/opt/conda/pkgs/r-pbdzmq-0.3_2-r3.4.1_0/lib/R/library/pbdZMQ/examples/README\n",
      "/opt/conda/pkgs/r-rmarkdown-1.8-r3.4.1_0/lib/R/library/rmarkdown/rmd/h/jqueryui-1.11.4/README\n",
      "/opt/conda/pkgs/r-nlme-3.1_131-r3.4.1_0/lib/R/library/nlme/mlbook/README\n",
      "/opt/conda/pkgs/libssh2-1.8.0-2/share/doc/libssh2/README\n",
      "/opt/conda/pkgs/r-base-3.4.1-4/lib/R/library/grDevices/afm/README\n",
      "/opt/conda/pkgs/r-base-3.4.1-4/lib/R/share/java/README\n",
      "/opt/conda/pkgs/gettext-0.19.8.1-0/share/doc/gettext/examples/README\n",
      "/opt/conda/pkgs/gettext-0.19.8.1-0/share/doc/gettext/examples/hello-php/README\n",
      "/opt/conda/pkgs/gettext-0.19.8.1-0/share/doc/gettext/examples/hello-csharp-forms/README\n",
      "/opt/conda/pkgs/mpfr-3.1.5-0/share/doc/mpfr/examples/ReadMe\n",
      "/opt/conda/pkgs/scipy-1.1.0-py36_blas_openblas_200/lib/python3.6/site-packages/scipy/special/tests/data/README\n",
      "/opt/conda/pkgs/scipy-1.1.0-py36_blas_openblas_200/lib/python3.6/site-packages/scipy/optimize/lbfgsb/README\n",
      "/opt/conda/pkgs/fontconfig-2.12.6-0/etc/fonts/conf.d/README\n",
      "/opt/conda/pkgs/jupyterhub-0.8.1-py36_0/lib/python3.6/site-packages/jupyterhub/alembic/README\n",
      "/opt/conda/pkgs/nodejs-8.10.0-0/lib/node_modules/npm/node_modules/node-gyp/gyp/tools/README\n",
      "/opt/conda/pkgs/nodejs-8.10.0-0/lib/node_modules/npm/node_modules/node-gyp/gyp/tools/Xcode/README\n",
      "/opt/conda/pkgs/nodejs-8.10.0-0/lib/node_modules/npm/node_modules/node-gyp/gyp/tools/emacs/README\n",
      "/opt/conda/pkgs/nodejs-8.10.0-0/lib/node_modules/npm/node_modules/node-gyp/gyp/buildbot/commit_queue/README\n",
      "/opt/julia/.cache/InternedStrings/refs/heads/ox/readme\n",
      "/opt/julia/v0.6/DataStructures/test/README\n",
      "/opt/julia/v0.6/HDF5/deps/src/hdf5-1.10.0-patch1/tools/h5repack/testfiles/README\n",
      "/opt/julia/v0.6/HDF5/deps/src/hdf5-1.10.0-patch1/examples/README\n",
      "/opt/julia/v0.6/HDF5/deps/src/hdf5-1.10.0-patch1/hl/tools/gif2h5/testfiles/README\n",
      "/opt/julia/v0.6/HDF5/deps/src/hdf5-1.10.0-patch1/fortran/src/README\n",
      "/opt/julia/v0.6/HDF5/deps/usr/share/hdf5_examples/README\n",
      "/opt/julia/v0.6/InternedStrings/.git/refs/remotes/cache/heads/ox/readme\n",
      "/opt/julia/v0.6/InternedStrings/.git/refs/remotes/origin/ox/readme\n",
      "/opt/julia/v0.6/InternedStrings/.git/logs/refs/remotes/cache/heads/ox/readme\n",
      "/opt/julia/v0.6/InternedStrings/.git/logs/refs/remotes/origin/ox/readme\n",
      "/opt/julia-0.6.2/share/doc/julia/examples/clustermanager/simple/README\n",
      "/opt/julia-0.6.2/share/doc/julia/examples/clustermanager/0mq/README\n"
     ]
    }
   ],
   "source": [
    "%%bash\n",
    "find /opt -iname 'README'"
   ]
  },
  {
   "cell_type": "markdown",
   "metadata": {},
   "source": [
    "## [wildcards](https://en.wikibooks.org/wiki/A_Quick_Introduction_to_Unix/Wildcards)\n",
    "\n",
    "Finding files becomes more powerful when we search for names matching a pattern. Linux provides **wildcards** that match variable characters.\n",
    "\n",
    "### ``*`` \n",
    "\n",
    "The asterisk character stands for zero or more characters (any characters).\n",
    "\n",
    "The filename for these Jupyter notebooks have ``.ipynb`` as a suffix, so if I want to find all the Jupyter notebooks in a directory tree, I would do the following:"
   ]
  },
  {
   "cell_type": "code",
   "execution_count": null,
   "metadata": {},
   "outputs": [],
   "source": [
    "%%bash\n",
    "find ~/work/decart_boot_camp_1_2018 -name '*.ipynb'\n"
   ]
  },
  {
   "cell_type": "markdown",
   "metadata": {},
   "source": [
    "### ``?`` \n",
    "\n",
    "The question mark character stands for one character (any character)."
   ]
  },
  {
   "cell_type": "markdown",
   "metadata": {},
   "source": [
    "## Exercise\n",
    "\n",
    "In the ~/DATA directory there are [WAVE files](https://en.wikipedia.org/wiki/WAV) (.wav) that are recordings of various heart anomalies. There are two types of Mitral valve problems: mitral stenosis (ms) and mitral regurgitation (mr). Use find with wildcards to find all the \"ms\" and \"mr\" WAVE files. Make sure that you do not match other files, for example pulmonary stenosis (ps). How many mitral WAVE files are there? How many WAVE files are there?"
   ]
  },
  {
   "cell_type": "code",
   "execution_count": 11,
   "metadata": {},
   "outputs": [
    {
     "name": "stdout",
     "output_type": "stream",
     "text": [
      "/home/rinterdonato/DATA/Numerics/Audio/ms.wav\n",
      "/home/rinterdonato/DATA/Numerics/Audio/mr.wav\n",
      "/home/rinterdonato/DATA/Numerics/Audio/rub.wav\n",
      "/home/rinterdonato/DATA/Numerics/Audio/s41.wav\n",
      "/home/rinterdonato/DATA/Numerics/Audio/rub2.wav\n",
      "/home/rinterdonato/DATA/Numerics/Audio/pda.wav\n",
      "/home/rinterdonato/DATA/Numerics/Audio/normal.wav\n",
      "/home/rinterdonato/DATA/Numerics/Audio/s31.wav\n",
      "/home/rinterdonato/DATA/Numerics/Audio/splits21.wav\n",
      "/home/rinterdonato/DATA/Numerics/Audio/ps.wav\n",
      "/home/rinterdonato/DATA/Numerics/Audio/vsd.wav\n"
     ]
    }
   ],
   "source": [
    "%%bash\n",
    "find ~/DATA -name '*.wav'\n",
    "#ls ~/DATA\n"
   ]
  },
  {
   "cell_type": "code",
   "execution_count": 13,
   "metadata": {},
   "outputs": [
    {
     "name": "stdout",
     "output_type": "stream",
     "text": [
      "number of mitral audible files identified correctly.\n"
     ]
    }
   ],
   "source": [
    "mitral_files(2)"
   ]
  },
  {
   "cell_type": "code",
   "execution_count": 12,
   "metadata": {},
   "outputs": [
    {
     "name": "stdout",
     "output_type": "stream",
     "text": [
      "number of WAVE audible files identified correctly.\n"
     ]
    }
   ],
   "source": [
    "wave_files(11)"
   ]
  },
  {
   "cell_type": "markdown",
   "metadata": {},
   "source": [
    "### Multiple search conditions\n",
    "\n",
    "#### AND\n",
    "\n",
    "We can just concatenate multiple conditions to form logical AND. \n",
    "\n",
    "So if we want to find only directories named \"Python\", we can combine the ``-d`` flag with a ``-name`` condition:"
   ]
  },
  {
   "cell_type": "code",
   "execution_count": 14,
   "metadata": {},
   "outputs": [
    {
     "name": "stdout",
     "output_type": "stream",
     "text": [
      "Process is interrupted.\n"
     ]
    }
   ],
   "source": [
    "%%bash\n",
    "find / -iname \"python\" -d"
   ]
  },
  {
   "cell_type": "markdown",
   "metadata": {},
   "source": [
    "## Exercise \n",
    "\n",
    "Use the find command to identify all the ``.txt`` files in ``~/DATA`` that are larger than 10 kBytes."
   ]
  },
  {
   "cell_type": "code",
   "execution_count": 33,
   "metadata": {},
   "outputs": [
    {
     "name": "stdout",
     "output_type": "stream",
     "text": [
      "55\n"
     ]
    }
   ],
   "source": [
    "%%bash\n",
    "find ~/DATA -name *.txt -size 10k | wc -l"
   ]
  },
  {
   "cell_type": "code",
   "execution_count": 35,
   "metadata": {},
   "outputs": [
    {
     "name": "stdout",
     "output_type": "stream",
     "text": [
      "number of *.txt files larger than 10k NOT identified correctly.\n"
     ]
    }
   ],
   "source": [
    "find_10k_files(55)"
   ]
  },
  {
   "cell_type": "markdown",
   "metadata": {},
   "source": [
    "#### OR\n",
    "\n",
    "Find files matching name1 OR name2.\n",
    "\n",
    "Doing an OR is more complicated.\n",
    "\n",
    "* We separate our conditions with a ``-o`` flag\n",
    "* Our whole expression needs to be wrapped in parentheses ()\n",
    "* Because parentheses are special in the shell, they need to be **escaped**: ``\\(`` and ``\\)``\n",
    "\n"
   ]
  },
  {
   "cell_type": "code",
   "execution_count": 36,
   "metadata": {},
   "outputs": [
    {
     "name": "stdout",
     "output_type": "stream",
     "text": [
      "7\n"
     ]
    }
   ],
   "source": [
    "%%bash\n",
    "find ~ \\( -name '*.db' -o -name '*.sqlite' \\) | wc -l"
   ]
  },
  {
   "cell_type": "markdown",
   "metadata": {},
   "source": [
    "## [grep](https://en.wikibooks.org/wiki/Grep)\n",
    "\n",
    "grep is a Unix/Linux program that is very useful for identifying content within files. There are a lot of [options](http://linuxcommand.org/man_pages/grep1.html) with grep, most of which are beyond the scope of this class. In this section, we will review some of the basic yet very useful functionality of grep.\n",
    "\n",
    "* Provide a pattern we want to find (e.g. \"chapel\")\n",
    "* A file or list of files within which to search for the pattern\n",
    "\n",
    "In ``~/DATA/Misc/``, there is a file ``obits.txt``. We'll use grep to look for the word \"chapel\" in the file"
   ]
  },
  {
   "cell_type": "code",
   "execution_count": 48,
   "metadata": {},
   "outputs": [
    {
     "name": "stdout",
     "output_type": "stream",
     "text": [
      "      2      30     197\n"
     ]
    }
   ],
   "source": [
    "%%bash\n",
    "grep chapel -i -r ~/DATA/Misc/obits.txt | wc"
   ]
  },
  {
   "cell_type": "markdown",
   "metadata": {},
   "source": [
    "#### We can use the ``-i`` flag to ignore case in our pattern (and file names)\n"
   ]
  },
  {
   "cell_type": "code",
   "execution_count": 49,
   "metadata": {},
   "outputs": [
    {
     "name": "stdout",
     "output_type": "stream",
     "text": [
      "CLOUSE, Walter J., 79, of Fox chapel, died Oct. 17. Weddell-Ajak Funeral Home, Aspinwall. (DN) \r\n",
      "GOLDBERG, Elaine Unger, 73, of Squirrel Hill, died Oct. 14. Ralph Schugar Chapel, Shadyside. (DN) \r\n"
     ]
    }
   ],
   "source": [
    "%%bash\n",
    "grep -i chapel ~/DATA/Misc/obits.txt"
   ]
  },
  {
   "cell_type": "markdown",
   "metadata": {},
   "source": [
    "#### We can use the ``-c`` flag to just count the number of occurrences in a file"
   ]
  },
  {
   "cell_type": "code",
   "execution_count": 50,
   "metadata": {},
   "outputs": [
    {
     "name": "stdout",
     "output_type": "stream",
     "text": [
      "2\n"
     ]
    }
   ],
   "source": [
    "%%bash\n",
    "grep -i -c chapel ~/DATA/Misc/obits.txt"
   ]
  },
  {
   "cell_type": "markdown",
   "metadata": {},
   "source": [
    "#### We can use the ``-r`` flag to search all the files under a directory"
   ]
  },
  {
   "cell_type": "code",
   "execution_count": 51,
   "metadata": {},
   "outputs": [
    {
     "name": "stdout",
     "output_type": "stream",
     "text": [
      "/home/rinterdonato/DATA/Misc/pah_comorbidities.txt:0\n",
      "/home/rinterdonato/DATA/Misc/doid.obo:0\n",
      "/home/rinterdonato/DATA/Misc/bmi_faculty_papers_details.json:1\n",
      "/home/rinterdonato/DATA/Misc/seinfeldFood.sqlite:0\n",
      "/home/rinterdonato/DATA/Misc/carotid.txt:0\n",
      "/home/rinterdonato/DATA/Misc/obits.txt:2\n",
      "/home/rinterdonato/DATA/Misc/icd9-short.txt:1\n",
      "/home/rinterdonato/DATA/Misc/Accidents7904.csv:0\n"
     ]
    }
   ],
   "source": [
    "%%bash\n",
    "grep -i -c -r chapel ~/DATA/Misc"
   ]
  },
  {
   "cell_type": "markdown",
   "metadata": {},
   "source": [
    "#### We use the ``-l`` flag to just list the files where matches were found"
   ]
  },
  {
   "cell_type": "code",
   "execution_count": 52,
   "metadata": {},
   "outputs": [
    {
     "name": "stdout",
     "output_type": "stream",
     "text": [
      "/home/rinterdonato/DATA/Misc/bmi_faculty_papers_details.json\n",
      "/home/rinterdonato/DATA/Misc/obits.txt\n",
      "/home/rinterdonato/DATA/Misc/icd9-short.txt\n"
     ]
    }
   ],
   "source": [
    "%%bash\n",
    "grep -i -l -r chapel ~/DATA/Misc"
   ]
  },
  {
   "cell_type": "markdown",
   "metadata": {},
   "source": [
    "#### We can provide a list of files "
   ]
  },
  {
   "cell_type": "code",
   "execution_count": 53,
   "metadata": {},
   "outputs": [
    {
     "name": "stdout",
     "output_type": "stream",
     "text": [
      "/home/rinterdonato/DATA/Misc/obits.txt:CLOUSE, Walter J., 79, of Fox chapel, died Oct. 17. Weddell-Ajak Funeral Home, Aspinwall. (DN) \r\n",
      "/home/rinterdonato/DATA/Misc/obits.txt:GOLDBERG, Elaine Unger, 73, of Squirrel Hill, died Oct. 14. Ralph Schugar Chapel, Shadyside. (DN) \r\n",
      "/home/rinterdonato/DATA/Misc/icd9-short.txt:ICD-9 Codes for Family Medicine 2011-2012: The FPM Short List\r",
      "\r",
      "\"Note: Codes that include NOS (not otherwise specified) or unspec. (unspecified) have alternative diagnosis codes that are more specific. These alternatives can be found in or near the section of ICD-9-CM that deals with the relevant three-digit codes. The top 100 codes are indicated with a \"\"Yes\"\" in the Top 100 column. These codes have been identified by the authors as especially common in family medicine.\"\r",
      "\r",
      "\r",
      "\r",
      "\"Compiled by Donald Spencer, MD, MBA, of the Department of Family Medicine, University of North Carolina, Chapel Hill, Philip S. Whitecar, MD, of the Department of Family Medicine, Wright State University, Dayton, Ohio, and Allen Daugird, MD, MBA, of the Department of Family Medicine, University of North Carolina, Chapel Hill. Author disclosure: no relevant financial affiliations disclosed. \"\r",
      "\r",
      "\r",
      "\r",
      "Printed copies of this list may be purchased through the AAFP online catalog at http://www.aafp.org/shop/fpm/icd9 or by calling the AAFP Contact Center at 800-274-2237. This and the FPM �Long List� can be downloaded from the FPM web site at http://www.aafp.org/fpm/icd9.\r",
      "\r",
      "\r",
      "\r",
      "Portions copyright � 2011 American Academy of Family Physicians.\r",
      "\r",
      "Top\tDiagnosis\r",
      "Diagnosis Section Subsection\t100\t\tCode\tDescription\r",
      "I. Infectious & Parasitic Diseases\t\t\t790.7\tBacteremia (not septicemia)\r",
      "I. Infectious & Parasitic Diseases\t\t\t052.9\t\"Chickenpox, NOS\"\r",
      "I. Infectious & Parasitic Diseases\t\t\t078.11\tCondyloma acuminata\r",
      "I. Infectious & Parasitic Diseases\t\t\t111.9\t\"Dermatomycosis, unspec.\"\r",
      "I. Infectious & Parasitic Diseases\t\t\t057.9\t\"Exanthems, viral, unspec.\"\r",
      "I. Infectious & Parasitic Diseases\t\t\t007.1\tGiardiasis\r",
      "I. Infectious & Parasitic Diseases\t\t\t098.0\t\"Gonorrhea, acute, lower GU tract\"\r",
      "I. Infectious & Parasitic Diseases\t\t\t041.86\tHelicobacter pylori\r",
      "I. Infectious & Parasitic Diseases\t\t\t070.9\t\"Hepatitis, viral, NOS\"\r",
      "I. Infectious & Parasitic Diseases\t\t\t053.9\t\"Herpes zoster, NOS\"\r",
      "I. Infectious & Parasitic Diseases\t\t\t054.9\t\"Herpetic disease, uncomplicated\"\r",
      "I. Infectious & Parasitic Diseases\t\t\t042\tHIV disease\r",
      "I. Infectious & Parasitic Diseases\t\t\tV08\t\"HIV positive, asymptomatic\"\r",
      "I. Infectious & Parasitic Diseases\t\t\t075\tInfectious mononucleosis\r",
      "I. Infectious & Parasitic Diseases\t\t\t136.9\t\"Infectious/parasitic diseases, unspec.\"\r",
      "I. Infectious & Parasitic Diseases\t\t\t487.1\tInfluenza w/ URI symptoms\r",
      "I. Infectious & Parasitic Diseases\t\t\t007.9\t\"Intestinal protozoa, NOS\"\r",
      "I. Infectious & Parasitic Diseases\t\t\t088.81\tLyme disease\r",
      "I. Infectious & Parasitic Diseases\t\t\t112.0\t\"Moniliasis, oral\"\r",
      "I. Infectious & Parasitic Diseases\t\t\t112.3\t\"Moniliasis, skin/nails\"\r",
      "I. Infectious & Parasitic Diseases\t\t\t112.1\t\"Moniliasis, vulva/vagina\"\r",
      "I. Infectious & Parasitic Diseases\t\t\t132.0\t\"Pediculosis, head\r",
      "\"\r",
      "I. Infectious & Parasitic Diseases\t\t\t132.9\t\"Pediculosis, unspec.\"\r",
      "I. Infectious & Parasitic Diseases\t\t\t127.4\tPinworms\r",
      "I. Infectious & Parasitic Diseases\t\t\t138\t\"Polio, late effects\"\r",
      "I. Infectious & Parasitic Diseases\t\t\t795.51\tPositive PPD\r",
      "I. Infectious & Parasitic Diseases\t\t\t082.0\tRocky mountain spotted fever\r",
      "I. Infectious & Parasitic Diseases\t\t\t003.0\tSalmonella gastroenteritis\r",
      "I. Infectious & Parasitic Diseases\t\t\t135\tSarcoidosis\r",
      "I. Infectious & Parasitic Diseases\t\t\t133.0\tScabies\r",
      "I. Infectious & Parasitic Diseases\t\t\t995.91\tSepsis\r",
      "I. Infectious & Parasitic Diseases\t\t\t038.9\t\"Septicemia, NOS\"\r",
      "I. Infectious & Parasitic Diseases\t\t\t005.0\tStaphylococcal food poisoning\r",
      "I. Infectious & Parasitic Diseases\t\tYes\t034.0\tStrep throat\r",
      "I. Infectious & Parasitic Diseases\t\t\t097.9\t\"Syphilis, unspec.\"\r",
      "I. Infectious & Parasitic Diseases\t\t\t131.9\t\"Trichomoniasis, unspec.\"\r",
      "I. Infectious & Parasitic Diseases\t\t\t011.90\t\"Tuberculosis, pulmonary, NOS\"\r",
      "I. Infectious & Parasitic Diseases\t\t\t099.9\t\"Venereal disease, unspec.\"\r",
      "I. Infectious & Parasitic Diseases\t\tYes\t079.99\t\"Viral infection, unspec.\"\r",
      "I. Infectious & Parasitic Diseases\t\t\t078.11\t\"Warts, condyloma\"\r",
      "I. Infectious & Parasitic Diseases\t\tYes\t078.10\t\"Warts, viral, unspec.\"\r",
      "II. Neoplasms\t\t\t239.9\t\"Neoplasm, unspec.\"\r",
      "II. Neoplasms\t\t\t239.2 \t\"Skin, soft tissue neoplasm, unspec.\"\r",
      "II. Neoplasms\tBenign Neoplasms\t\t229.9\t\"Benign lesion, unspec.\"\r",
      "II. Neoplasms\tBenign Neoplasms\t\t211.3\tColon\r",
      "II. Neoplasms\tBenign Neoplasms\t\t214.9\t\"Lipoma, any site\"\r",
      "II. Neoplasms\tBenign Neoplasms\tYes\t216.9\t\"Skin, unspec.\"\r",
      "II. Neoplasms\tMalignant Neoplasms\t\t188.9\t\"Bladder, unspec.\"\r",
      "II. Neoplasms\tMalignant Neoplasms\t\t174.9\t\"Breast, female, unspec.\"\r",
      "II. Neoplasms\tMalignant Neoplasms\t\t153.9\t\"Colon, unspec.\"\r",
      "II. Neoplasms\tMalignant Neoplasms\t\t184.9\t\"Female genital, unspec., CIS excluded\"\r",
      "II. Neoplasms\tMalignant Neoplasms\t\t159.0\t\"Gastrointestinal tract, unspec.\"\r",
      "II. Neoplasms\tMalignant Neoplasms\t\t201.90\t\"Hodgkin's, NOS\"\r",
      "II. Neoplasms\tMalignant Neoplasms\t\t208.90\t\"Leukemia, unspec., w/o remission\"\r",
      "II. Neoplasms\tMalignant Neoplasms\t\t162.9\t\"Lung, unspec.\"\r",
      "II. Neoplasms\tMalignant Neoplasms\t\t187.9\t\"Male genital, unspec.\"\r",
      "II. Neoplasms\tMalignant Neoplasms\t\t199.1\t\"Malignant lesion, unspec.\"\r",
      "II. Neoplasms\tMalignant Neoplasms\t\t185\tProstate\r",
      "II. Neoplasms\tMalignant Neoplasms\t\t165.9\t\"Respiratory tract, NOS\"\r",
      "II. Neoplasms\tMalignant Neoplasms\t\t173.90\t\"Skin, unspec.\"\r",
      "II. Neoplasms\tMalignant Neoplasms\t\t189.9\t\"Urinary, unspec.\"\r",
      "\"III. Endocrine, Nutritional & Metabolic Disorders\"\t\t\t266.2\tB12 deficiency w/o anemia\r",
      "\"III. Endocrine, Nutritional & Metabolic Disorders\"\t\t\tV85.51\t\"BMI < 5th percentile, pediatric\"\r",
      "\"III. Endocrine, Nutritional & Metabolic Disorders\"\t\t\tV85.54\t\"BMI � 95th percentile, pediatric\"\r",
      "\"III. Endocrine, Nutritional & Metabolic Disorders\"\t\t\t276.51\tDehydration\r",
      "\"III. Endocrine, Nutritional & Metabolic Disorders\"\t\tYes\t250.01\t\"Diabetes I, uncomplicated\"\r",
      "\"III. Endocrine, Nutritional & Metabolic Disorders\"\t\t\t250.91\t\"Diabetes I, w/ unspec. complications\"\r",
      "\"III. Endocrine, Nutritional & Metabolic Disorders\"\t\tYes\t250.00\t\"Diabetes II, uncomplicated\"\r",
      "\"III. Endocrine, Nutritional & Metabolic Disorders\"\t\t\t250.90\t\"Diabetes II, w/ unspec. complications\"\r",
      "\"III. Endocrine, Nutritional & Metabolic Disorders\"\t\t\t250.13\t\"Diabetic ketoacidosis, uncontrolled\"\r",
      "\"III. Endocrine, Nutritional & Metabolic Disorders\"\t\t\t277.7\tDysmetabolic syndrome\r",
      "\"III. Endocrine, Nutritional & Metabolic Disorders\"\t\tYes\t271.9\tGlucose intolerance\r",
      "\"III. Endocrine, Nutritional & Metabolic Disorders\"\t\t\t240.9\t\"Goiter, unspec.\"\r",
      "\"III. Endocrine, Nutritional & Metabolic Disorders\"\t\t\t274.9\t\"Gout, unspec.\"\r",
      "\"III. Endocrine, Nutritional & Metabolic Disorders\"\t\t\t275.42\tHypercalcemia\r",
      "\"III. Endocrine, Nutritional & Metabolic Disorders\"\t\tYes\t272.0\t\"Hypercholesterolemia, pure\"\r",
      "\"III. Endocrine, Nutritional & Metabolic Disorders\"\t\t\t276.7\tHyperkalemia\r",
      "\"III. Endocrine, Nutritional & Metabolic Disorders\"\t\t\t272.2 \t\"Hyperlipidemia, mixed\"\r",
      "\"III. Endocrine, Nutritional & Metabolic Disorders\"\t\t\t272.4\t\"Hyperlipidemia, unspec.\"\r",
      "\"III. Endocrine, Nutritional & Metabolic Disorders\"\t\t\t276.0\tHypernatremia\r",
      "\"III. Endocrine, Nutritional & Metabolic Disorders\"\t\t\t252.00\t\"Hyperparathyroidism, unspec.\"\r",
      "\"III. Endocrine, Nutritional & Metabolic Disorders\"\t\t\t242.90\t\"Hyperthyroidism, NOS\"\r",
      "\"III. Endocrine, Nutritional & Metabolic Disorders\"\t\t\t275.41\tHypocalcemia\r",
      "\"III. Endocrine, Nutritional & Metabolic Disorders\"\t\t\t250.80\t\"Hypoglycemia, DM, uncontrolled\"\r",
      "\"III. Endocrine, Nutritional & Metabolic Disorders\"\t\t\t251.2\t\"Hypoglycemia, nondiabetic, unspec.\"\r",
      "\"III. Endocrine, Nutritional & Metabolic Disorders\"\t\t\t276.8\tHypokalemia\r",
      "\"III. Endocrine, Nutritional & Metabolic Disorders\"\t\t\t276.1\tHyponatremia\r",
      "\"III. Endocrine, Nutritional & Metabolic Disorders\"\t\tYes\t244.9\t\"Hypothyroidism, unspec.\"\r",
      "\"III. Endocrine, Nutritional & Metabolic Disorders\"\t\t\t269.9\t\"Nutritional deficiencies, unspec.\"\r",
      "\"III. Endocrine, Nutritional & Metabolic Disorders\"\t\tYes\t278.00\t\"Obesity, NOS\"\r",
      "\"III. Endocrine, Nutritional & Metabolic Disorders\"\t\tYes\t278.02\tOverweight\r",
      "\"III. Endocrine, Nutritional & Metabolic Disorders\"\t\t\t241.0\tThyroid nodule\r",
      "IV. Blood Diseases\t\t\t288.9\t\"Abnormal white blood cells, unspec.\"\r",
      "IV. Blood Diseases\t\t\t285.1\t\"Anemia, acute blood loss\"\r",
      "IV. Blood Diseases\t\t\t285.29\t\"Anemia, chronic disease, other\"\r",
      "IV. Blood Diseases\t\t\t285.21\t\"Anemia, chronic kidney disease\"\r",
      "IV. Blood Diseases\t\t\t285.22\t\"Anemia, chronic neoplastic disease\"\r",
      "IV. Blood Diseases\t\tYes\t280.9\t\"Anemia, iron deficiency, unspec.\"\r",
      "IV. Blood Diseases\t\tYes\t285.9\t\"Anemia, other, unspec.\"\r",
      "IV. Blood Diseases\t\t\t281.0\t\"Anemia, pernicious\"\r",
      "IV. Blood Diseases\t\t\t289.9\t\"Blood disease, unspec.\"\r",
      "IV. Blood Diseases\t\t\t287.9\t\"Hemorrhagic conditions, unspec.\"\r",
      "IV. Blood Diseases\t\t\t289.81\t\"Hypercoagulable state, primary\"\r",
      "IV. Blood Diseases\t\t\t288.50\t\"Leukocytopenia, unspec.\"\r",
      "IV. Blood Diseases\t\t\t289.1\t\"Lymphadenitis, chronic\"\r",
      "IV. Blood Diseases\t\t\t284.19\t\"Pancytopenia, other\"\r",
      "IV. Blood Diseases\t\t\t238.4\tPolycythemia vera\r",
      "IV. Blood Diseases\t\t\t282.60\t\"Sickle-cell disease, unspec.\"\r",
      "IV. Blood Diseases\t\t\t282.5\tSickle-cell trait\r",
      "V. Mental Disorders\t\t\t309.9\t\"Adjustment reaction, unspec.\"\r",
      "V. Mental Disorders\t\t\t305.00\t\"Alcohol abuse, unspec.\"\r",
      "V. Mental Disorders\t\t\t303.90\t\"Alcoholism, unspec.\"\r",
      "V. Mental Disorders\t\t\t331.0\tAlzheimer's\r",
      "V. Mental Disorders\t\t\t307.1\tAnorexia nervosa\r",
      "V. Mental Disorders\t\tYes\t300.00\t\"Anxiety state, unspec.\"\r",
      "V. Mental Disorders\t\tYes\t314.01\t\"Attention deficit, w/ hyperactivity\"\r",
      "V. Mental Disorders\t\t\t314.00\t\"Attention deficit, w/o hyperactivity\"\r",
      "V. Mental Disorders\t\t\t307.51\tBulimia nervosa\r",
      "V. Mental Disorders\t\t\t312.9\t\"Conduct disorder, unspec.\"\r",
      "V. Mental Disorders\t\t\t293.0\t\"Delirium, acute\"\r",
      "V. Mental Disorders\t\t\t290.0\t\"Dementia, senile, uncomplicated\"\r",
      "V. Mental Disorders\t\t\t290.40\t\"Dementia, vascular, uncomplicated\"\r",
      "V. Mental Disorders\t\tYes\t311\t\"Depressive disorder, NOS\"\r",
      "V. Mental Disorders\t\t\t305.90\t\"Drug abuse, unspec.\"\r",
      "V. Mental Disorders\t\tYes\t307.40\t\"Insomnia, sleep disorder, unspec.\"\r",
      "V. Mental Disorders\t\t\t319\t\"Intellectual disabilities, unspec.\"\r",
      "V. Mental Disorders\t\t\t315.9\t\"Learning disability/develop. delay, NOS\"\r",
      "V. Mental Disorders\t\t\t300.9\t\"Neurosis, NOS\"\r",
      "V. Mental Disorders\t\t\t300.01\t\"Panic disorder, no agoraphobia\"\r",
      "V. Mental Disorders\t\t\t301.9\t\"Personality disorder, unspec.\"\r",
      "V. Mental Disorders\t\t\t302.70\t\"Psychosexual dysf., unspec.\"\r",
      "V. Mental Disorders\t\t\t298.9\t\"Psychosis, unspec.\"\r",
      "V. Mental Disorders\t\t\t295.90\t\"Schizophrenia, unspec.\"\r",
      "V. Mental Disorders\t\t\t308.3\t\"Stress, acute situational disturbance\"\r",
      "V. Mental Disorders\t\tYes\t305.1\tTobacco abuse\r",
      "VI. Nervous System & Sense Organ Disorders\tEar Diseases\tYes\t380.4\tCerumen impaction\r",
      "VI. Nervous System & Sense Organ Disorders\tEar Diseases\t\t388.9\t\"Ear disorder, unspec.\"\r",
      "VI. Nervous System & Sense Organ Disorders\tEar Diseases\t\t381.50\t\"Eustachian salpingitis, unspec.\"\r",
      "VI. Nervous System & Sense Organ Disorders\t\"Ear Diseases\r",
      "\"\t\t389.9\t\"Hearing loss, unspec.\"\r",
      "VI. Nervous System & Sense Organ Disorders\tEar Diseases\tYes\t380.10\t\"Otitis externa, unspec.\"\r",
      "VI. Nervous System & Sense Organ Disorders\tEar Diseases\tYes\t382.00\t\"Otitis media, acute\"\r",
      "VI. Nervous System & Sense Organ Disorders\tEar Diseases\t\t382.01\t\"Otitis media, acute w/ rupture of TM\"\r",
      "VI. Nervous System & Sense Organ Disorders\tEar Diseases\t\t381.10\t\"Otitis media, chronic serous\"\r",
      "VI. Nervous System & Sense Organ Disorders\tEar Diseases\t\t386.2\t\"Vertigo, central\"\r",
      "VI. Nervous System & Sense Organ Disorders\tEar Diseases\t\t386.10\t\"Vertigo, peripheral, unspec.\"\r",
      "VI. Nervous System & Sense Organ Disorders\tEye Diseases\t\t373.00\t\"Blepharitis, unspec.\"\r",
      "VI. Nervous System & Sense Organ Disorders\tEye Diseases\t\t366.9\t\"Cataract, unspec.\"\r",
      "VI. Nervous System & Sense Organ Disorders\tEye Diseases\t\t373.2\tChalazion\r",
      "VI. Nervous System & Sense Organ Disorders\tEye Diseases\tYes\t372.30\t\"Conjunctivitis, unspec.\"\r",
      "VI. Nervous System & Sense Organ Disorders\tEye Diseases\t\t077.99\t\"Conjunctivitis, viral, NOS\"\r",
      "VI. Nervous System & Sense Organ Disorders\tEye Diseases\t\t918.1\tCorneal abrasion\r",
      "VI. Nervous System & Sense Organ Disorders\tEye Diseases\t\t370.00\t\"Corneal ulcer, unspec.\"\r",
      "VI. Nervous System & Sense Organ Disorders\tEye Diseases\t\t379.90\t\"Eye disorder, unspec.\"\r",
      "VI. Nervous System & Sense Organ Disorders\tEye Diseases\t\t378.9\t\"Eye movement disorder, unspec.\"\r",
      "VI. Nervous System & Sense Organ Disorders\tEye Diseases\t\t930.9\t\"Foreign body, eye, external, unspec.\"\r",
      "VI. Nervous System & Sense Organ Disorders\tEye Diseases\t\t365.9\t\"Glaucoma, unspec.\"\r",
      "VI. Nervous System & Sense Organ Disorders\tEye Diseases\t\t367.9\t\"Refractive errors, unspec.\"\r",
      "VI. Nervous System & Sense Organ Disorders\tEye Diseases\t\t362.9\t\"Retinal disorder, unspec.\"\r",
      "VI. Nervous System & Sense Organ Disorders\tEye Diseases\t\t373.11\tStye (hordeolum)\r",
      "VI. Nervous System & Sense Organ Disorders\tEye Diseases\t\t368.10\t\"Visual disturbance, unspec.\"\r",
      "VI. Nervous System & Sense Organ Disorders\tEye Diseases\t\t369.9\t\"Visual loss, unspec.\"\r",
      "VI. Nervous System & Sense Organ Disorders\tNervous System Diseases\t\t351.0\tBell's palsy\r",
      "VI. Nervous System & Sense Organ Disorders\tNervous System Diseases\t\t354.0\tCarpal tunnel\r",
      "VI. Nervous System & Sense Organ Disorders\tNervous System Diseases\tYes\t434.91\t\"Cerebral artery occlusion w/ infarction, unspec.\"\r",
      "VI. Nervous System & Sense Organ Disorders\tNervous System Diseases\t\t331.83\t\"Cognitive impairment, mild\"\r",
      "VI. Nervous System & Sense Organ Disorders\t\"Nervous System Diseases\r",
      "\"\t\t850.11\t\"Concussion, LOC less than 30 minutes\"\r",
      "VI. Nervous System & Sense Organ Disorders\tNervous System Diseases\t\t438.9\t\"CVA, late effect, unspec.\"\r",
      "VI. Nervous System & Sense Organ Disorders\tNervous System Diseases\tYes\t345.90\t\"Epilepsy, unspec., not intractable\"\r",
      "VI. Nervous System & Sense Organ Disorders\tNervous System Diseases\t\t307.81\t\"Headache, tension\"\r",
      "VI. Nervous System & Sense Organ Disorders\tNervous System Diseases\t\t432.9\t\"Hemorrhage, intracranial, NOS\"\r",
      "VI. Nervous System & Sense Organ Disorders\tNervous System Diseases\t\t322.9\t\"Meningitis, unspec.\"\r",
      "VI. Nervous System & Sense Organ Disorders\tNervous System Diseases\tYes\t346.90\t\"Migraine, unspec., not intractable\"\r",
      "VI. Nervous System & Sense Organ Disorders\tNervous System Diseases\t\t333.90\t\"Movement disorder, unspec.\"\r",
      "VI. Nervous System & Sense Organ Disorders\tNervous System Diseases\t\t340\tMultiple sclerosis\r",
      "VI. Nervous System & Sense Organ Disorders\tNervous System Diseases\t\t359.9\t\"Myopathy, unspec.\"\r",
      "VI. Nervous System & Sense Organ Disorders\tNervous System Diseases\t\t349.9\t\"Nervous system, NOS\"\r",
      "VI. Nervous System & Sense Organ Disorders\tNervous System Diseases\t\t357.9\t\"Neuropathy, unspec.\"\r",
      "VI. Nervous System & Sense Organ Disorders\tNervous System Diseases\t\t332.0\t\"Parkinsonism, primary\"\r",
      "VI. Nervous System & Sense Organ Disorders\tNervous System Diseases\t\t333.94\tRestless legs syndrome\r",
      "VI. Nervous System & Sense Organ Disorders\tNervous System Diseases\t\t327.23\t\"Sleep apnea, obstructive\"\r",
      "VI. Nervous System & Sense Organ Disorders\tNervous System Diseases\t\t333.1\t\"Tremor, essential/familial\"\r",
      "VI. Nervous System & Sense Organ Disorders\tNervous System Diseases\t\t781.0\t\"Tremor/spasms, NOS\"\r",
      "VI. Nervous System & Sense Organ Disorders\tNervous System Diseases\t\t350.1\tTrigeminal neuralgia\r",
      "VII. Circulatory System\t\t\t413.9\t\"Angina pectoris, NOS\"\r",
      "VII. Circulatory System\t\t\t411.1\t\"Angina, unstable\"\r",
      "VII. Circulatory System\t\t\t441.9\t\"Aortic aneurysm, unspec.\"\r",
      "VII. Circulatory System\t\t\t447.9\t\"Arterial disorder, other, unspec.\"\r",
      "VII. Circulatory System\t\t\t440.9\t\"Atherosclerosis, NOS (not heart/brain)\"\r",
      "VII. Circulatory System\t\tYes\t427.31\tAtrial fibrillation\r",
      "VII. Circulatory System\t\t\t427.5\tCardiac arrest\r",
      "VII. Circulatory System\t\tYes\t414.9\t\"Chronic ischemic heart disease, unspec.\"\r",
      "VII. Circulatory System\t\t\t459.9\t\"Circulatory disorder, unspec.\"\r",
      "VII. Circulatory System\t\t\t426.9\t\"Conduction disorder, unspec.\"\r",
      "VII. Circulatory System\t\tYes\t796.2\tElevated BP w/o hypertension\r",
      "VII. Circulatory System\t\t\t429.9\t\"Heart disease, other, unspec.\"\r",
      "VII. Circulatory System\t\t\t428.40\t\"Heart failure, combined, unspec.\"\r",
      "VII. Circulatory System\t\tYes\t428.0\t\"Heart failure, congestive, unspec.\"\r",
      "VII. Circulatory System\t\t\t428.30\t\"Heart failure, diastolic, unspec.\"\r",
      "VII. Circulatory System\t\t\t428.20\t\"Heart failure, systolic, unspec.\"\r",
      "VII. Circulatory System\t\t\t424.1\t\"Heart valve, aortic, not rheum.\"\r",
      "VII. Circulatory System\t\t\t424.0\t\"Heart valve, mitral, not rheum.\"\r",
      "VII. Circulatory System\t\t\t424.3\t\"Heart valve, pulmonary, not rheum.\"\r",
      "VII. Circulatory System\t\t\t424.2\t\"Heart valve, tricuspid, not rheum.\"\r",
      "VII. Circulatory System\t\tYes\t401.1\t\"Hypertension, benign\"\r",
      "VII. Circulatory System\t\t\t401.0\t\"Hypertension, malignant\"\r",
      "VII. Circulatory System\t\tYes\t401.9\t\"Hypertension, unspec.\"\r",
      "VII. Circulatory System\t\t\t402.91\t\"Hypertensive heart disease, unspec., w/ heart failure\"\r",
      "VII. Circulatory System\t\t\t403.90\t\"Hypertensive renal disease w/o renal failure, unspec.\"\r",
      "VII. Circulatory System\t\t\t458.0\t\"Hypotension, orthostatic\"\r",
      "VII. Circulatory System\t\t\t426.82\tLong QT syndrome\r",
      "VII. Circulatory System\t\t\t410.90\t\"MI, NOS (to 8 weeks)\"\r",
      "VII. Circulatory System\t\t\t410.70\t\"MI, NSTEMI (to 8 weeks)\"\r",
      "VII. Circulatory System\t\t\t412\t\"MI, old\"\r",
      "VII. Circulatory System\t\t\t420.91\t\"Pericarditis, acute, nonspecific\"\r",
      "VII. Circulatory System\t\t\t443.9\t\"Peripheral vascular disease, unspec.\"\r",
      "VII. Circulatory System\t\tYes\t451.19\t\"Phlebitis, deep, lower extrem., other\"\r",
      "VII. Circulatory System\t\t\t427.60\t\"Premature beats, unspec.\"\r",
      "VII. Circulatory System\t\t\t428.1\t\"Pulmonary edema, acute\"\r",
      "VII. Circulatory System\t\t\t415.19\t\"Pulmonary embolism, not iatrogenic\"\r",
      "VII. Circulatory System\t\t\t416.9\t\"Pulmonary heart disease, chronic, unspec.\"\r",
      "VII. Circulatory System\t\t\t398.90\t\"Rheumatic heart disease, unspec.\"\r",
      "VII. Circulatory System\t\t\t427.81\tSick sinus syndrome\r",
      "VII. Circulatory System\t\t\t427.0\t\"Tachycardia, paroxysmal SVT\"\r",
      "VII. Circulatory System\t\t\t451.9\t\"Thrombophlebitis, unspec.\"\r",
      "VII. Circulatory System\t\t\t435.9\t\"Transient ischemic attack, unspec.\"\r",
      "VII. Circulatory System\t\t\t454.9\t\"Varicose veins, asymptomatic\"\r",
      "VII. Circulatory System\t\t\t459.81\t\"Venous insufficiency, unspec.\"\r",
      "VIII. Respiratory System\t\t\t493.81\t\"Asthma, exercise induced\"\r",
      "VIII. Respiratory System\t\t\t493.02\t\"Asthma, extrinsic, acute exacerbation\"\r",
      "VIII. Respiratory System\t\t\t493.12\t\"Asthma, intrinsic, acute exacerbation\"\r",
      "VIII. Respiratory System\t\tYes\t493.90\t\"Asthma, unspec.\"\r",
      "VIII. Respiratory System\t\t\t466.11\t\"Bronchiolitis, acute, due to RSV\"\r",
      "VIII. Respiratory System\t\tYes\t466.0\t\"Bronchitis, acute\"\r",
      "VIII. Respiratory System\t\t\t491.9\t\"Bronchitis, chronic, unspec.\"\r",
      "VIII. Respiratory System\t\t\t519.11\t\"Bronchospasm, acute\"\r",
      "VIII. Respiratory System\t\tYes\t496\t\"COPD, NOS\"\r",
      "VIII. Respiratory System\t\t\t464.4\tCroup\r",
      "VIII. Respiratory System\t\t\t492.8\tEmphysema\r",
      "VIII. Respiratory System\t\t\t464.00\t\"Laryngitis, acute, no obstruction\"\r",
      "VIII. Respiratory System\t\t\t475\tPeritonsillar abscess\r",
      "VIII. Respiratory System\t\tYes\t462\t\"Pharyngitis, acute\"\r",
      "VIII. Respiratory System\t\t\t511.9\t\"Pleural effusion, NOS\"\r",
      "VIII. Respiratory System\t\t\t511.0\t\"Pleurisy, NOS\"\r",
      "VIII. Respiratory System\t\tYes\t486\t\"Pneumonia, unspec.\"\r",
      "VIII. Respiratory System\t\t\t512.81\t\"Pneumothorax, spontaneous, primary\"\r",
      "VIII. Respiratory System\t\t\t519.9\t\"Respiratory disease, other, NOS\"\r",
      "VIII. Respiratory System\t\tYes\t477.9\t\"Rhinitis, allergic, cause unspec.\"\r",
      "VIII. Respiratory System\t\t\t472.0\t\"Rhinitis, chronic\"\r",
      "VIII. Respiratory System\t\t\t461.1\t\"Sinusitis, acute, frontal\"\r",
      "VIII. Respiratory System\t\t\t461.0\t\"Sinusitis, acute, maxillary\"\r",
      "VIII. Respiratory System\t\tYes\t461.9\t\"Sinusitis, acute, NOS\"\r",
      "VIII. Respiratory System\t\t\t473.1\t\"Sinusitis, chronic, frontal\"\r",
      "VIII. Respiratory System\t\t\t473.0\t\"Sinusitis, chronic, maxillary\"\r",
      "VIII. Respiratory System\t\t\t473.9\t\"Sinusitis, chronic, NOS\"\r",
      "VIII. Respiratory System\t\t\t474.9\t\"Tonsil/adenoid disease, chronic, unspec.\"\r",
      "VIII. Respiratory System\t\t\t463\t\"Tonsillitis, acute\"\r",
      "VIII. Respiratory System\t\tYes\t465.9\t\"Upper respiratory infection, acute, NOS\"\r",
      "IX. Digestive System\t\t\t565.0\t\"Anal fissure, nontraumatic\"\r",
      "IX. Digestive System\t\t\t540.9\t\"Appendicitis, unspec.\"\r",
      "IX. Digestive System\t\t\t575.0\t\"Cholecystitis, acute\"\r",
      "IX. Digestive System\t\t\t574.20\t\"Cholelithiasis, NOS\"\r",
      "IX. Digestive System\t\t\t571.5\t\"Cirrhosis, NOS\"\r",
      "IX. Digestive System\t\tYes\t564.00 \t\"Constipation, unspec.\"\r",
      "IX. Digestive System\t\t\t555.9\t\"Crohn's disease, NOS\"\r",
      "IX. Digestive System\t\t\t522.5\tDental abscess\r",
      "IX. Digestive System\t\t\t521.00\t\"Dental caries, unspec.\"\r",
      "IX. Digestive System\t\t\t525.9\t\"Dental, unspec.\"\r",
      "IX. Digestive System\t\t\t562.11\t\"Diverticulitis of colon, NOS\"\r",
      "IX. Digestive System\t\t\t562.10\t\"Diverticulosis, colon\"\r",
      "IX. Digestive System\t\t\t536.8\tDyspepsia\r",
      "IX. Digestive System\t\t\t530.9\t\"Esophageal disease, unspec.\"\r",
      "IX. Digestive System\t\t\t530.10\t\"Esophagitis, unspec.\"\r",
      "IX. Digestive System\t\t\t564.9\t\"Functional disorder intestine, unspec.\"\r",
      "IX. Digestive System\t\t\t575.9\t\"Gallbladder disease, unspec.\"\r",
      "IX. Digestive System\t\t\t535.50\t\"Gastritis, unspec., w/o hemorrhage\"\r",
      "IX. Digestive System\t\t\t009.1\t\"Gastroenteritis, infectious\"\r",
      "IX. Digestive System\t\tYes\t558.9\t\"Gastroenteritis, noninfectious, unspec.\"\r",
      "IX. Digestive System\t\tYes\t530.81\t\"Gastroesophageal reflux, no esophagitis\"\r",
      "IX. Digestive System\t\tYes\t455.6\t\"Hemorrhoids, NOS\"\r",
      "IX. Digestive System\t\t\t553.3\t\"Hernia, hiatal, noncongenital\"\r",
      "IX. Digestive System\t\t\t550.90\t\"Hernia, inguinal, NOS\"\r",
      "IX. Digestive System\t\t\t553.9\t\"Hernia, other, NOS\"\r",
      "IX. Digestive System\t\t\t560.1\tIleus\r",
      "IX. Digestive System\t\t\t560.9\t\"Intestinal obstruction, unspec.\"\r",
      "IX. Digestive System\t\t\t564.1\tIrritable bowel syndrome\r",
      "IX. Digestive System\t\t\t571.9\t\"Liver disease, chronic, unspec.\"\r",
      "IX. Digestive System\t\t\t528.9\t\"Oral, soft tissue diseases, unspec.\"\r",
      "IX. Digestive System\t\t\t529.9\t\"Oral, tongue diseases, unspec.\"\r",
      "IX. Digestive System\t\t\t577.0\t\"Pancreatitis, acute\"\r",
      "IX. Digestive System\t\t\t528.00\t\"Stomatitis, mucositis, unspec.\"\r",
      "IX. Digestive System\t\t\t524.60\t\"TMJ disorder, unspec.\"\r",
      "IX. Digestive System\t\t\t556.9\t\"Ulcerative colitis, unspec.\"\r",
      "X. Genitourinary System\tBreast Diseases\t\t611.9\t\"Breast disease, unspec.\"\r",
      "X. Genitourinary System\tBreast Diseases\t\t611.72\tBreast lump\r",
      "X. Genitourinary System\tBreast Diseases\t\t610.2\tFibroadenosis\r",
      "X. Genitourinary System\tBreast Diseases\t\t610.1\tFibrocystic disease\r",
      "X. Genitourinary System\tBreast Diseases\t\t611.6\tGalactorrhea\r",
      "X. Genitourinary System\tBreast Diseases\t\t675.90\t\"Mastitis, lactating, unspec.\"\r",
      "X. Genitourinary System\tBreast Diseases\t\t611.0\t\"Mastitis, NOS\"\r",
      "X. Genitourinary System\tDisorders of Menstruation\t\t626.0\tAmenorrhea\r",
      "X. Genitourinary System\tDisorders of Menstruation\t\tV07.4\t\"Hormone replacement therapy, postmenopausal\"\r",
      "X. Genitourinary System\tDisorders of Menstruation\tYes\t627.9\t\"Menopausal disorders, unspec.\"\r",
      "X. Genitourinary System\tDisorders of Menstruation\tYes\t626.2\t\"Menstruation, excessive/frequent\"\r",
      "X. Genitourinary System\tDisorders of Menstruation\t\t625.3\t\"Menstruation, painful\"\r",
      "X. Genitourinary System\tDisorders of Menstruation\t\t626.6\tMetrorrhagia\r",
      "X. Genitourinary System\tDisorders of Menstruation\t\t625.4\tPremenstrual tension syndrome\r",
      "X. Genitourinary System\tFemale Genital Organ Diseases\t\t616.2\tBartholin cyst\r",
      "X. Genitourinary System\tFemale Genital Organ Diseases\t\t622.7\t\"Cervical polyp, NOS\"\r",
      "X. Genitourinary System\tFemale Genital Organ Diseases\t\t616.0\tCervicitis\r",
      "X. Genitourinary System\tFemale Genital Organ Diseases\t\t620.0\t\"Cyst of ovary, follicular\"\r",
      "X. Genitourinary System\tFemale Genital Organ Diseases\t\t618.9\t\"Cystocele/rectocele/prolapse, unspec.\"\r",
      "X. Genitourinary System\tFemale Genital Organ Diseases\t\t625.0\tDyspareunia\r",
      "X. Genitourinary System\tFemale Genital Organ Diseases\t\t617.9\t\"Endometriosis, unspec.\"\r",
      "X. Genitourinary System\tFemale Genital Organ Diseases\t\t629.9\t\"Female genital disease, unspec.\"\r",
      "X. Genitourinary System\tFemale Genital Organ Diseases\t\t218.9\t\"Fibroid uterus (leiomyoma), unspec.\"\r",
      "X. Genitourinary System\tFemale Genital Organ Diseases\t\t614.9\t\"Pelvic inflammatory disease, unspec.\"\r",
      "X. Genitourinary System\tFemale Genital Organ Diseases\tYes\t616.10\t\"Vaginitis/vulvitis, unspec.\"\r",
      "X. Genitourinary System\tFertility Problems\t\t628.9\t\"Infertility, female, unspec.\"\r",
      "X. Genitourinary System\tFertility Problems\t\t606.9\t\"Infertility, male, unspec.\"\r",
      "X. Genitourinary System\tMale Genital Organ Diseases\t\t607.1\tBalanitis\r",
      "X. Genitourinary System\tMale Genital Organ Diseases\t\t600.01\tBPH/LUTS w/ obstruction\r",
      "X. Genitourinary System\tMale Genital Organ Diseases\tYes\t600.00\tBPH/LUTS w/o obstruction\r",
      "X. Genitourinary System\tMale Genital Organ Diseases\t\t603.9\t\"Hydrocele, unspec.\"\r",
      "X. Genitourinary System\tMale Genital Organ Diseases\t\t607.84\t\"Impotence, organic\"\r",
      "X. Genitourinary System\tMale Genital Organ Diseases\t\t302.72\t\"Impotence, psychosexual dysfunction\"\r",
      "X. Genitourinary System\tMale Genital Organ Diseases\t\t608.9\t\"Male genital disease, other, unspec.\"\r",
      "X. Genitourinary System\tMale Genital Organ Diseases\t\t604.90\t\"Orchitis/epididymitis, unspec.\"\r",
      "X. Genitourinary System\tMale Genital Organ Diseases\t\t605\tPhimosis\r",
      "X. Genitourinary System\tMale Genital Organ Diseases\tYes\t601.9\t\"Prostatitis, NOS\"\r",
      "X. Genitourinary System\tMale Genital Organ Diseases\t\t790.93\t\"PSA, elevated\"\r",
      "X. Genitourinary System\tMale Genital Organ Diseases\t\t099.40\t\"Urethritis, nongonococcal, unspec.\"\r",
      "X. Genitourinary System\tMale Genital Organ Diseases\t\t456.4\tVaricocele\r",
      "X. Genitourinary System\tUrinary System Diseases\t\t592.9\t\"Calculus, urinary, unspec.\"\r",
      "X. Genitourinary System\tUrinary System Diseases\tYes\t595.0\t\"Cystitis, acute\"\r",
      "X. Genitourinary System\tUrinary System Diseases\t\t595.1\t\"Cystitis, interstitial, chronic\"\r",
      "X. Genitourinary System\tUrinary System Diseases\t\t580.9\t\"Glomerulonephritis, acute, unspec.\"\r",
      "X. Genitourinary System\tUrinary System Diseases\t\t582.9\t\"Glomerulonephritis, chronic, unspec.\"\r",
      "X. Genitourinary System\tUrinary System Diseases\t\t599.70\t\"Hematuria, unspec.\"\r",
      "X. Genitourinary System\tUrinary System Diseases\t\t625.6\t\"Incontinence, stress, female\"\r",
      "X. Genitourinary System\tUrinary System Diseases\t\t585.9\t\"Kidney disease, chronic, unspec.\"\r",
      "X. Genitourinary System\tUrinary System Diseases\t\t590.10\t\"Pyelonephritis, acute, w/o necrosis\"\r",
      "X. Genitourinary System\tUrinary System Diseases\t\t584.9\t\"Renal failure, acute, unspec.\"\r",
      "X. Genitourinary System\tUrinary System Diseases\t\t593.9\t\"Renal insufficiency, acute\"\r",
      "X. Genitourinary System\tUrinary System Diseases\t\t597.81\t\"Urethral syndrome, non-VD, NOS\"\r",
      "X. Genitourinary System\tUrinary System Diseases\t\t599.60\t\"Urinary obstruction, unspec.\"\r",
      "X. Genitourinary System\tUrinary System Diseases\tYes\t599.0\t\"Urinary tract infection, unspec./pyuria\"\r",
      "\"XI. Pregnancy, Childbirth\"\t\t\t635.90\t\"Abortion, induced, w/o complication\"\r",
      "\"XI. Pregnancy, Childbirth\"\t\t\t634.90\t\"Abortion, spontaneous, w/o complication\"\r",
      "\"XI. Pregnancy, Childbirth\"\t\t\t641.20\t\"Abruptio placentae, unspec.\"\r",
      "\"XI. Pregnancy, Childbirth\"\t\t\t641.90\t\"Bleeding in pregnancy, unspec.\"\r",
      "\"XI. Pregnancy, Childbirth\"\t\t\t669.90\t\"Complicated delivery/labor, unspec.\"\r",
      "\"XI. Pregnancy, Childbirth\"\t\t\t655.70\t\"Decreased fetal movements, unspec.\"\r",
      "\"XI. Pregnancy, Childbirth\"\t\t\t633.90\t\"Ectopic pregnancy, no IUP, unspec.\"\r",
      "\"XI. Pregnancy, Childbirth\"\t\t\t670.14\t\"Endometritis, postpartum\"\r",
      "\"XI. Pregnancy, Childbirth\"\t\t\t642.30\t\"Gestational hypertension, unspec.\"\r",
      "\"XI. Pregnancy, Childbirth\"\t\t\t650\tNormal delivery\r",
      "\"XI. Pregnancy, Childbirth\"\t\t\t674.94\t\"Other complication of puerperium/postpartum, unspec.\"\r",
      "\"XI. Pregnancy, Childbirth\"\t\t\t641.10\t\"Placenta previa, w/ bleeding, unspec.\"\r",
      "\"XI. Pregnancy, Childbirth\"\t\t\t641.00\t\"Placenta previa, w/o bleeding, unspec.\"\r",
      "\"XI. Pregnancy, Childbirth\"\t\tYes\tV24.2\t\"Postpartum follow-up, routine\"\r",
      "\"XI. Pregnancy, Childbirth\"\t\t\t642.40\t\"Pre-eclampsia, unspec.\"\r",
      "\"XI. Pregnancy, Childbirth\"\t\t\tV72.4\tPregnancy exam or test\r",
      "\"XI. Pregnancy, Childbirth\"\t\t\t646.90\t\"Pregnancy, other complications, unspec.\"\r",
      "\"XI. Pregnancy, Childbirth\"\t\t\tV22.2\t\"Pregnant state, incidental\"\r",
      "\"XI. Pregnancy, Childbirth\"\t\t\t644.21\t\"Premature labor, delivered\"\r",
      "\"XI. Pregnancy, Childbirth\"\t\t\t644.03\t\"Premature labor, threat., undelivered\"\r",
      "\"XI. Pregnancy, Childbirth\"\t\t\tV23.9\t\"Prenatal care, high risk, unspec.\"\r",
      "\"XI. Pregnancy, Childbirth\"\t\tYes\tV22.0\t\"Prenatal care, normal, first pregnancy\"\r",
      "\"XI. Pregnancy, Childbirth\"\t\tYes\tV22.1\t\"Prenatal care, normal, other pregnancy\"\r",
      "\"XI. Pregnancy, Childbirth\"\t\t\t649.5\tSpotting in pregnancy\r",
      "\"XI. Pregnancy, Childbirth\"\t\t\t640.00\t\"Threatened abortion, unspec.\"\r",
      "\"XI. Pregnancy, Childbirth\"\t\t\t651.00\t\"Twins, unspec.\"\r",
      "\"XI. Pregnancy, Childbirth\"\t\t\t646.60\t\"UTI in pregnancy, unspec.\"\r",
      "\"XI. Pregnancy, Childbirth\"\t\t\t643.90\t\"Vomiting of pregnancy, unspec.\"\r",
      "\"XII. Skin, Subcutaneous Tissue\"\t\tYes\t706.1\t\"Acne, other\"\r",
      "\"XII. Skin, Subcutaneous Tissue\"\t\t\t702.0\tActinic keratosis\r",
      "\"XII. Skin, Subcutaneous Tissue\"\t\t\t704.00\t\"Alopecia, unspec.\"\r",
      "\"XII. Skin, Subcutaneous Tissue\"\t\tYes\t682.9\t\"Cellulitis/abscess, unspec.\"\r",
      "\"XII. Skin, Subcutaneous Tissue\"\t\tYes\t692.9\t\"Contact dermatitis, NOS\"\r",
      "\"XII. Skin, Subcutaneous Tissue\"\t\t\t700\tCorn/callus\r",
      "\"XII. Skin, Subcutaneous Tissue\"\t\t\t691.0\tDiaper rash\r",
      "\"XII. Skin, Subcutaneous Tissue\"\t\tYes\t691.8\t\"Eczema, atopic dermatitis\"\r",
      "\"XII. Skin, Subcutaneous Tissue\"\t\t\t704.9\t\"Hair disease, unspec.\"\r",
      "\"XII. Skin, Subcutaneous Tissue\"\t\t\t704.1\tHirsutism\r",
      "\"XII. Skin, Subcutaneous Tissue\"\t\t\t684\tImpetigo\r",
      "\"XII. Skin, Subcutaneous Tissue\"\t\t\t703.0\tIngrown nail\r",
      "\"XII. Skin, Subcutaneous Tissue\"\t\t\t683\t\"Lymphadenitis, acute\"\r",
      "\"XII. Skin, Subcutaneous Tissue\"\t\t\t703.9\t\"Nail disease, unspec.\"\r",
      "\"XII. Skin, Subcutaneous Tissue\"\t\t\t110.1\tOnychomycosis\r",
      "\"XII. Skin, Subcutaneous Tissue\"\t\tYes\t709.9\t\"Other skin disease, unspec.\"\r",
      "\"XII. Skin, Subcutaneous Tissue\"\t\t\t696.3\tPityriasis rosea\r",
      "\"XII. Skin, Subcutaneous Tissue\"\t\t\t698.9\t\"Pruritus, NOS\"\r",
      "\"XII. Skin, Subcutaneous Tissue\"\t\t\t696.1\t\"Psoriasis, NOS\"\r",
      "\"XII. Skin, Subcutaneous Tissue\"\t\t\t695.3\tRosacea\r",
      "\"XII. Skin, Subcutaneous Tissue\"\t\tYes\t706.2\tSebaceous cyst\r",
      "\"XII. Skin, Subcutaneous Tissue\"\t\t\t690.10\t\"Seborrheic dermatitis, NOS\"\r",
      "\"XII. Skin, Subcutaneous Tissue\"\t\t\t702.19\t\"Seborrheic keratosis, NOS\"\r",
      "\"XII. Skin, Subcutaneous Tissue\"\t\t\t692.71\tSunburn\r",
      "\"XII. Skin, Subcutaneous Tissue\"\t\t\t705.9\t\"Sweat gland disease, unspec.\"\r",
      "\"XII. Skin, Subcutaneous Tissue\"\t\t\t111.0\tTinea versicolor\r",
      "\"XII. Skin, Subcutaneous Tissue\"\t\t\t707.9\t\"Ulcer, skin, chronic, unspec.\"\r",
      "\"XII. Skin, Subcutaneous Tissue\"\t\t\t708.9\t\"Urticaria, unspec.\"\r",
      "XIII. Musculoskeletal & Connective Tissue\t\t\t736.9\t\"Acquired deformity, limb, unspec.\"\r",
      "XIII. Musculoskeletal & Connective Tissue\t\t\t716.10\t\"Arthropathy, traumatic, unspec.\"\r",
      "XIII. Musculoskeletal & Connective Tissue\t\tYes\t716.90\t\"Arthropathy, unspec.\"\r",
      "XIII. Musculoskeletal & Connective Tissue\t\tYes\t724.4\t\"Back pain w/ radiation, unspec.\"\r",
      "XIII. Musculoskeletal & Connective Tissue\t\tYes\t723.9\t\"Cervical disorder, NOS\"\r",
      "XIII. Musculoskeletal & Connective Tissue\t\t\t710.9\t\"Connective tissue disease, unspec.\"\r",
      "XIII. Musculoskeletal & Connective Tissue\t\t\t717.9\t\"Derangement, knee, internal, unspec.\"\r",
      "XIII. Musculoskeletal & Connective Tissue\t\t\t722.2\t\"Disc syndrome, no myelopathy, NOS\"\r",
      "XIII. Musculoskeletal & Connective Tissue\t\tYes\t729.1\t\"Fibromyalgia/myositis, unspec.\"\r",
      "XIII. Musculoskeletal & Connective Tissue\t\t\t727.43\t\"Ganglion, unspec.\"\r",
      "XIII. Musculoskeletal & Connective Tissue\t\t\t737.9\t\"Kyphosis/scoliosis, unspec.\"\r",
      "XIII. Musculoskeletal & Connective Tissue\t\t\t728.87\t\"Muscle weakness, generalized\"\r",
      "XIII. Musculoskeletal & Connective Tissue\t\t\t721.90\t\"Osteoarthritis of spine, NOS\"\r",
      "XIII. Musculoskeletal & Connective Tissue\t\tYes\t715.90\t\"Osteoarthrosis, unspec.\"\r",
      "XIII. Musculoskeletal & Connective Tissue\t\t\t730.00\t\"Osteomyelitis, acute, unspec.\"\r",
      "XIII. Musculoskeletal & Connective Tissue\t\t\t730.10\t\"Osteomyelitis, chronic, unspec.\"\r",
      "XIII. Musculoskeletal & Connective Tissue\t\t\t733.00\t\"Osteoporosis, unspec.\"\r",
      "XIII. Musculoskeletal & Connective Tissue\t\tYes\t729.5\tPain in limb\r",
      "XIII. Musculoskeletal & Connective Tissue\t\t\t725\tPolymyalgia rheumatica\r",
      "XIII. Musculoskeletal & Connective Tissue\t\t\t714.0\tRheumatoid arthritis (not JRA)\r",
      "XIII. Musculoskeletal & Connective Tissue\t\tYes\t726.10\t\"Rotator cuff/shoulder synd., unspec.\"\r",
      "XIII. Musculoskeletal & Connective Tissue\t\tYes\t727.00\t\"Synovitis/tenosynovitis, unspec.\"\r",
      "XIV. Congenital Anomalies\t\t\t759.9\t\"Congenital anomaly, other, unspec.\"\r",
      "XIV. Congenital Anomalies\t\t\t746.9\t\"Congenital heart anomaly, NOS\"\r",
      "XIV. Congenital Anomalies\t\t\t755.9\t\"Limb anomaly, unspec.\"\r",
      "XIV. Congenital Anomalies\t\t\t750.5\tPyloric stenosis\r",
      "XIV. Congenital Anomalies\t\t\t743.65\t\"Tear duct, blocked\"\r",
      "XIV. Congenital Anomalies\t\t\t752.51\tUndescended testis\r",
      "XV. Perinatal (Infant)\t\t\t768.9\t\"Birth asphyxia, unspec.\"\r",
      "XV. Perinatal (Infant)\t\t\t767.9\t\"Birth trauma, unspec.\"\r",
      "XV. Perinatal (Infant)\t\t\t779.31\t\"Feeding problem, newborn\"\r",
      "XV. Perinatal (Infant)\t\t\t768.4\t\"Fetal distress, unspec.\"\r",
      "XV. Perinatal (Infant)\t\t\t770.88\t\"Hypoxemia, newborn, NOS\"\r",
      "XV. Perinatal (Infant)\t\t\t774.30\t\"Jaundice, newborn, unspec.\"\r",
      "XV. Perinatal (Infant)\t\t\t764.00\t\"Newborn, SGA, weight unspec.\"\r",
      "XV. Perinatal (Infant)\t\t\t779.9\t\"Perinatal morbidity/mortality, unspec.\"\r",
      "XV. Perinatal (Infant)\t\t\t766.21\tPost-term infant\r",
      "XV. Perinatal (Infant)\t\t\t765.10\t\"Preterm infant, weight unspec.\"\r",
      "XV. Perinatal (Infant)\t\t\t769\tRespiratory distress syndrome\r",
      "XV. Perinatal (Infant)\t\t\t770.9\t\"Respiratory problem, other, unspec.\"\r",
      "XV. Perinatal (Infant)\t\t\t771.81\t\"Sepsis, neonatal\"\r",
      "XV. Perinatal (Infant)\t\t\t778.9\tSkin/temperature problem\r",
      "XV. Perinatal (Infant)\t\t\t798.0\tSudden infant death syndrome\r",
      "XV. Perinatal (Infant)\t\t\tV30.00\t\"Well newborn, hospital birth, vaginal\"\r",
      "XVI. Signs & Symptoms\t\tYes\t789.00\t\"Abdominal pain/colic, unspec.\"\r",
      "XVI. Signs & Symptoms\t\t\t790.6\t\"Abnormal blood chemistry, other\"\r",
      "XVI. Signs & Symptoms\t\t\t794.31\tAbnormal electrocardiogram\r",
      "XVI. Signs & Symptoms\t\t\t790.29\t\"Abnormal glucose, other\"\r",
      "XVI. Signs & Symptoms\t\t\t795.05\t\"Abnormal HPV, positive, cervical high risk\"\r",
      "XVI. Signs & Symptoms\t\t\t793.19\t\"Abnormal imaging, lung, other\"\r",
      "XVI. Signs & Symptoms\t\tYes\t783.21\tAbnormal loss of weight\r",
      "XVI. Signs & Symptoms\t\tYes\t795.01\t\"Abnormal Pap, ASC-US\"\r",
      "XVI. Signs & Symptoms\t\t\t795.02\t\"Abnormal Pap, ASC, possible HGSIL\"\r",
      "XVI. Signs & Symptoms\t\tYes\t795.00\t\"Abnormal Pap, glandular, NOS\"\r",
      "XVI. Signs & Symptoms\t\t\t790.4\tAbnormal transaminase/LDH\r",
      "XVI. Signs & Symptoms\t\t\t790.09\tAbnormalities of RBCs\r",
      "XVI. Signs & Symptoms\t\t\t995.0\t\"Anaphylactic reaction, other\"\r",
      "XVI. Signs & Symptoms\t\t\t783.0\tAnorexia\r",
      "XVI. Signs & Symptoms\t\t\t719.40\t\"Arthralgia, unspec.\"\r",
      "XVI. Signs & Symptoms\t\t\t789.51\t\"Ascites, malignant\"\r",
      "XVI. Signs & Symptoms\t\t\t789.59\t\"Ascites, other\"\r",
      "XVI. Signs & Symptoms\t\t\t569.3\t\"Bleeding, rectal\"\r",
      "XVI. Signs & Symptoms\t\t\t578.1\t\"Blood in stool, melena\"\r",
      "XVI. Signs & Symptoms\t\t\t792.1\t\"Blood in stool, occult\"\r",
      "XVI. Signs & Symptoms\t\tYes\t786.50\t\"Chest pain, unspec.\"\r",
      "XVI. Signs & Symptoms\t\t\t780.71\tChronic fatigue syndrome\r",
      "XVI. Signs & Symptoms\t\t\t338.28\t\"Chronic pain, other post-op\"\r",
      "XVI. Signs & Symptoms\t\t\t338.22\t\"Chronic pain, post-thoracotomy\"\r",
      "XVI. Signs & Symptoms\t\t\t780.01\t\"Coma, nondiabetic/nonhepatic\"\r",
      "XVI. Signs & Symptoms\t\tYes\t786.2\tCough\r",
      "XVI. Signs & Symptoms\t\t\t780.92\t\"Crying, infant, excessive\"\r",
      "XVI. Signs & Symptoms\t\tYes\t787.91\t\"Diarrhea, NOS\"\r",
      "XVI. Signs & Symptoms\t\tYes\t780.4\t\"Dizziness/vertigo, NOS\"\r",
      "XVI. Signs & Symptoms\t\t\t787.20\t\"Dysphagia, unspec.\"\r",
      "XVI. Signs & Symptoms\t\tYes\t788.1\tDysuria\r",
      "XVI. Signs & Symptoms\t\tYes\t782.3\t\"Edema, localized, NOS\"\r",
      "XVI. Signs & Symptoms\t\t\t719.00\t\"Effusion/swelling of joint, unspec.\"\r",
      "XVI. Signs & Symptoms\t\t\t784.7\tEpistaxis\r",
      "XVI. Signs & Symptoms\t\t\t783.41\t\"Failure to thrive, child\"\r",
      "XVI. Signs & Symptoms\t\tYes\t780.79\t\"Fatigue and malaise, other\"\r",
      "XVI. Signs & Symptoms\t\t\t787.60\t\"Fecal incontinence, full\"\r",
      "XVI. Signs & Symptoms\t\t\t783.3\t\"Feeding problem, infant/elderly\"\r",
      "XVI. Signs & Symptoms\t\tYes\t780.60\t\"Fever, unspec.\"\r",
      "XVI. Signs & Symptoms\t\t\t787.3\tGas/bloating\r",
      "XVI. Signs & Symptoms\t\t\t791.5\tGlycosuria\r",
      "XVI. Signs & Symptoms\t\tYes\t784.0\t\"Headache, unspec.\"\r",
      "XVI. Signs & Symptoms\t\t\t787.1\tHeartburn\r",
      "XVI. Signs & Symptoms\t\t\t578.0\tHematemesis\r",
      "XVI. Signs & Symptoms\t\t\t786.30\t\"Hemoptysis, unspecified\"\r",
      "XVI. Signs & Symptoms\t\t\t789.1\tHepatomegaly\r",
      "XVI. Signs & Symptoms\t\t\t786.8\tHiccups\r",
      "XVI. Signs & Symptoms\t\t\t\"784.42\r",
      "\"\tHoarseness\r",
      "XVI. Signs & Symptoms\t\t\t306.1\tHyperventilation\r",
      "XVI. Signs & Symptoms\t\t\t799.02\tHypoxemia\r",
      "XVI. Signs & Symptoms\t\t\t788.30\t\"Incontinence/enuresis, NOS\"\r",
      "XVI. Signs & Symptoms\t\t\t783.40\t\"Lack of normal physiological development, unspec.\"\r",
      "XVI. Signs & Symptoms\t\t\t799.81\t\"Libido, decreased\"\r",
      "XVI. Signs & Symptoms\t\t\t782.2\t\"Localized swelling/mass, superficial\"\r",
      "XVI. Signs & Symptoms\t\t\t785.6\t\"Lymph nodes, enlarged\"\r",
      "XVI. Signs & Symptoms\t\t\t793.80\t\"Mammogram, abnormal, unspec.\"\r",
      "XVI. Signs & Symptoms\t\t\t780.93\tMemory loss\r",
      "XVI. Signs & Symptoms\t\t\t780.02\tMental status changes\r",
      "XVI. Signs & Symptoms\t\t\t785.2\t\"Murmur of heart, undiagnosed\"\r",
      "XVI. Signs & Symptoms\t\tYes\t787.01\tNausea w/ vomiting\r",
      "XVI. Signs & Symptoms\t\t\t787.02\t\"Nausea, alone\"\r",
      "XVI. Signs & Symptoms\t\t\t788.43\tNocturia\r",
      "XVI. Signs & Symptoms\t\t\t799.89\tOther ill-defined conditions\r",
      "XVI. Signs & Symptoms\t\t\t338.4\t\"Pain syndrome, chronic\"\r",
      "XVI. Signs & Symptoms\t\t\t338.21\t\"Pain, chronic, due to trauma\"\r",
      "XVI. Signs & Symptoms\t\t\t338.29\t\"Pain, chronic, other\"\r",
      "XVI. Signs & Symptoms\t\tYes\t719.46\t\"Pain, knee\"\r",
      "XVI. Signs & Symptoms\t\tYes\t724.2\t\"Pain, low back\"\r",
      "XVI. Signs & Symptoms\t\t\t338.3\t\"Pain, neoplasm related\"\r",
      "XVI. Signs & Symptoms\t\tYes\t785.1\tPalpitations\r",
      "XVI. Signs & Symptoms\t\t\t788.42\tPolyuria\r",
      "XVI. Signs & Symptoms\t\t\t791.0\t\"Proteinuria, nonpostural, nonobstetric\"\r",
      "XVI. Signs & Symptoms\t\tYes\t782.1\t\"Rash, nonvesicular, unspec.\"\r",
      "XVI. Signs & Symptoms\t\t\t780.39\t\"Seizures, convulsions, other\"\r",
      "XVI. Signs & Symptoms\t\t\t780.31\t\"Seizures, simple, febrile, unspec.\"\r",
      "XVI. Signs & Symptoms\t\t\t780.09\t\"Semicoma, stupor\"\r",
      "XVI. Signs & Symptoms\t\t\t782.0\tSensory disturbance skin\r",
      "XVI. Signs & Symptoms\t\t\t785.50\t\"Shock, unspec.\"\r",
      "XVI. Signs & Symptoms\t\tYes\t786.05\tShortness of breath\r",
      "XVI. Signs & Symptoms\t\t\t782.9\t\"Skin, other symptoms\"\r",
      "XVI. Signs & Symptoms\t\t\t789.2\tSplenomegaly\r",
      "XVI. Signs & Symptoms\t\t\t780.8\t\"Sweating, excessive\"\r",
      "XVI. Signs & Symptoms\t\t\t780.2\tSyncope\r",
      "XVI. Signs & Symptoms\t\tYes\t788.41\tUrinary frequency\r",
      "XVI. Signs & Symptoms\t\t\t788.63\tUrinary urgency\r",
      "XVI. Signs & Symptoms\t\t\t787.03\t\"Vomiting, alone\"\r",
      "XVI. Signs & Symptoms\t\t\t719.7\tWalking difficulty\r",
      "XVI. Signs & Symptoms\t\t\t786.07\tWheezing\r",
      "XVII. Injuries & Adverse Effects\t\"Dislocations, Sprains & Strains\"\t\t839.8\t\"Dislocation: other, closed, unspec.\"\r",
      "XVII. Injuries & Adverse Effects\t\"Dislocations, Sprains & Strains\"\t\t831.00\t\"Dislocation: shoulder, closed, unspec.\"\r",
      "XVII. Injuries & Adverse Effects\t\"Dislocations, Sprains & Strains\"\t\t836.2\t\"Knee meniscus injury, unspec.\"\r",
      "XVII. Injuries & Adverse Effects\t\"Dislocations, Sprains & Strains\"\tYes\t845.00\t\"Sprain/strain: ankle, unspec.\"\r",
      "XVII. Injuries & Adverse Effects\t\"Dislocations, Sprains & Strains\"\t\t845.10\t\"Sprain/strain: foot, unspec.\"\r",
      "XVII. Injuries & Adverse Effects\t\"Dislocations, Sprains & Strains\"\t\t842.10\t\"Sprain/strain: hand, unspec.\"\r",
      "XVII. Injuries & Adverse Effects\t\"Dislocations, Sprains & Strains\"\tYes\t844.9\t\"Sprain/strain: knee/leg, unspec.\"\r",
      "XVII. Injuries & Adverse Effects\t\"Dislocations, Sprains & Strains\"\tYes\t847.0\t\"Sprain/strain: neck, unspec.\"\r",
      "XVII. Injuries & Adverse Effects\t\"Dislocations, Sprains & Strains\"\t\t848.9\t\"Sprain/strain: other site, unspec.\"\r",
      "XVII. Injuries & Adverse Effects\t\"Dislocations, Sprains & Strains\"\tYes\t840.9\t\"Sprain/strain: shoulder/arm, unspec.\"\r",
      "XVII. Injuries & Adverse Effects\t\"Dislocations, Sprains & Strains\"\t\t847.9\t\"Sprain/strain: vertebral, unspec.\"\r",
      "XVII. Injuries & Adverse Effects\t\"Dislocations, Sprains & Strains\"\t\t842.00\t\"Sprain/strain: wrist, unspec.\"\r",
      "XVII. Injuries & Adverse Effects\tFracture\t\t733.94\t\"Fracture, stress: metatarsals\"\r",
      "XVII. Injuries & Adverse Effects\tFracture\t\t733.95\t\"Fracture, stress: other bone\"\r",
      "XVII. Injuries & Adverse Effects\tFracture\t\t733.93\t\"Fracture, stress: tibia or fibula\"\r",
      "XVII. Injuries & Adverse Effects\tFracture\t\t824.8\t\"Fracture: ankle, closed, unspec.\"\r",
      "XVII. Injuries & Adverse Effects\tFracture\t\t814.00\t\"Fracture: carpal, closed, unspec.\"\r",
      "XVII. Injuries & Adverse Effects\tFracture\t\t810.00\t\"Fracture: clavicle, closed, unspec.\"\r",
      "XVII. Injuries & Adverse Effects\tFracture\t\t820.8\t\"Fracture: femur/hip, closed, unspec.\"\r",
      "XVII. Injuries & Adverse Effects\tFracture\t\t821.01\t\"Fracture: femur/shaft, closed\"\r",
      "XVII. Injuries & Adverse Effects\tFracture\t\t823.81\t\"Fracture: fibula, closed, unspec.\"\r",
      "XVII. Injuries & Adverse Effects\tFracture\t\t825.20\t\"Fracture: foot, closed, unspec. (not toes)\"\r",
      "XVII. Injuries & Adverse Effects\tFracture\t\t813.80\t\"Fracture: forearm, closed, unspec.\"\r",
      "XVII. Injuries & Adverse Effects\tFracture\t\t812.20\t\"Fracture: humerus, closed, unspec.\"\r",
      "XVII. Injuries & Adverse Effects\tFracture\t\t802.20\t\"Fracture: mandible, closed, unspec.\"\r",
      "XVII. Injuries & Adverse Effects\tFracture\t\t815.00\t\"Fracture: metacarpal, closed, unspec.\"\r",
      "XVII. Injuries & Adverse Effects\tFracture\t\t802.0\t\"Fracture: nose, closed\"\r",
      "XVII. Injuries & Adverse Effects\tFracture\t\t829.0\t\"Fracture: other sites, closed, unspec.\"\r",
      "XVII. Injuries & Adverse Effects\tFracture\t\t808.8\t\"Fracture: pelvic, closed, unspec.\"\r",
      "XVII. Injuries & Adverse Effects\tFracture\t\t826.0\t\"Fracture: phalanges, foot, closed\"\r",
      "XVII. Injuries & Adverse Effects\tFracture\t\t816.00\t\"Fracture: phalanges, hand, closed, unspec.\"\r",
      "XVII. Injuries & Adverse Effects\tFracture\t\t807.00\t\"Fracture: ribs, closed, unspec.\"\r",
      "XVII. Injuries & Adverse Effects\tFracture\t\t803.00\t\"Fracture: skull, closed, unspec.\"\r",
      "XVII. Injuries & Adverse Effects\tFracture\t\t823.80\t\"Fracture: tibia, closed, unspec.\"\r",
      "XVII. Injuries & Adverse Effects\tFracture\t\t823.82\t\"Fracture: tibia/fibula, closed, unspec.\"\r",
      "XVII. Injuries & Adverse Effects\tFracture\t\t805.8\t\"Fracture: vertebral, closed, unspec.\"\r",
      "XVII. Injuries & Adverse Effects\tFracture\t\tV67.4\t\"Healed fracture, follow-up exam\"\r",
      "XVII. Injuries & Adverse Effects\t\"Other Trauma, Adverse Effects\"\t\t919.0\t\"Abrasion, unspec.\"\r",
      "XVII. Injuries & Adverse Effects\t\"Other Trauma, Adverse Effects\"\t\t995.81\tAdult physical abuse\r",
      "XVII. Injuries & Adverse Effects\t\"Other Trauma, Adverse Effects\"\t\t949.0\t\"Burn, degree unspec.\"\r",
      "XVII. Injuries & Adverse Effects\t\"Other Trauma, Adverse Effects\"\t\t995.50\t\"Child abuse, unspec.\"\r",
      "XVII. Injuries & Adverse Effects\t\"Other Trauma, Adverse Effects\"\t\t991.9\t\"Cold injury, unspec.\"\r",
      "XVII. Injuries & Adverse Effects\t\"Other Trauma, Adverse Effects\"\t\t850.9\t\"Concussion, unspec.\"\r",
      "XVII. Injuries & Adverse Effects\t\"Other Trauma, Adverse Effects\"\tYes\t924.9\t\"Contusion, unspec.\"\r",
      "XVII. Injuries & Adverse Effects\t\"Other Trauma, Adverse Effects\"\t\t929.9\t\"Crushing injury, unspec.\"\r",
      "XVII. Injuries & Adverse Effects\t\"Other Trauma, Adverse Effects\"\t\t994.4\tExhaustion due to exposure\r",
      "XVII. Injuries & Adverse Effects\t\"Other Trauma, Adverse Effects\"\t\t938\t\"Foreign body, digestive system, unspec.\"\r",
      "XVII. Injuries & Adverse Effects\t\"Other Trauma, Adverse Effects\"\t\t931\t\"Foreign body, ear\"\r",
      "XVII. Injuries & Adverse Effects\t\"Other Trauma, Adverse Effects\"\t\t932\t\"Foreign body, nose\"\r",
      "XVII. Injuries & Adverse Effects\t\"Other Trauma, Adverse Effects\"\t\t919.6\t\"Foreign body, skin, superficial, unspec.\"\r",
      "XVII. Injuries & Adverse Effects\t\"Other Trauma, Adverse Effects\"\t\tE922.9\t\"Gunshot wound, NOS\"\r",
      "XVII. Injuries & Adverse Effects\t\"Other Trauma, Adverse Effects\"\t\t854.00\t\"Head injury, NOS\"\r",
      "XVII. Injuries & Adverse Effects\t\"Other Trauma, Adverse Effects\"\t\t992.9\t\"Heat injury, unspec.\"\r",
      "XVII. Injuries & Adverse Effects\t\"Other Trauma, Adverse Effects\"\t\t919.4\tInsect bite\r",
      "XVII. Injuries & Adverse Effects\t\"Other Trauma, Adverse Effects\"\t\t908.9\t\"Late effects of injury, unspec.\"\r",
      "XVII. Injuries & Adverse Effects\t\"Other Trauma, Adverse Effects\"\t\t995.20\t\"Medication, adverse effects, unspec.\"\r",
      "XVII. Injuries & Adverse Effects\t\"Other Trauma, Adverse Effects\"\t\t879.8\t\"Open wound, head/neck/trunk, unspec.\"\r",
      "XVII. Injuries & Adverse Effects\t\"Other Trauma, Adverse Effects\"\t\t894.0\t\"Open wound, lower limb, unspec.\"\r",
      "XVII. Injuries & Adverse Effects\t\"Other Trauma, Adverse Effects\"\t\t884.0\t\"Open wound, upper limb, unspec.\"\r",
      "XVII. Injuries & Adverse Effects\t\"Other Trauma, Adverse Effects\"\t\t959.9\t\"Other trauma, unspec.\"\r",
      "XVII. Injuries & Adverse Effects\t\"Other Trauma, Adverse Effects\"\t\t977.9\t\"Poisoning, medicine overdose, unspec.\"\r",
      "XVII. Injuries & Adverse Effects\t\"Other Trauma, Adverse Effects\"\t\t989.9\t\"Poisoning, nonmedicinal substance\"\r",
      "XVII. Injuries & Adverse Effects\t\"Other Trauma, Adverse Effects\"\t\tV71.5\tRape\r",
      "XVIII. Supplemental Classification\t\t\tV68.9\t\"Administrative, other, unspec.\"\r",
      "XVIII. Supplemental Classification\t\t\tV65.40\t\"Advice/health instruction, NOS\"\r",
      "XVIII. Supplemental Classification\t\t\tV58.61\t\"Anticoagulant therapy, long term\"\r",
      "XVIII. Supplemental Classification\t\t\tV61.49\tCaring for family/household member\r",
      "XVIII. Supplemental Classification\t\t\tV13.22\t\"Cervical dysplasia, past history\"\r",
      "XVIII. Supplemental Classification\t\t\tV50.2\t\"Circumcision, routine\"\r",
      "XVIII. Supplemental Classification\t\t\tV25.09\tContraception advice\r",
      "XVIII. Supplemental Classification\t\t\tV25.9\t\"Contraception management, unspec.\"\r",
      "XVIII. Supplemental Classification\t\tYes\tV25.40\t\"Contraception surveillance, unspec.\"\r",
      "XVIII. Supplemental Classification\t\t\tV25.5\t\"Contraception, Norplant insertion\"\r",
      "XVIII. Supplemental Classification\t\t\tV25.01\t\"Contraception, oral\"\r",
      "XVIII. Supplemental Classification\t\tYes\tV25.02\t\"Contraception, other (diaphragm, etc.)\"\r",
      "XVIII. Supplemental Classification\t\t\tV61.10\t\"Counseling for marital and partner problems, unspec.\"\r",
      "XVIII. Supplemental Classification\t\t\tV61.20\t\"Counseling for parent/child problems, unspec.\"\r",
      "XVIII. Supplemental Classification\t\t\tV68.01\tDisability exam\r",
      "XVIII. Supplemental Classification\t\t\tV49.86\tDo not resuscitate status\r",
      "XVIII. Supplemental Classification\t\t\tV60.2\tEconomic problem\r",
      "XVIII. Supplemental Classification\t\t\tV62.3\tEducational problem\r",
      "XVIII. Supplemental Classification\t\t\tV01.9\t\"Exposure to infectious disease, unspec.\"\r",
      "XVIII. Supplemental Classification\t\t\tV01.6\tExposure to venereal disease\r",
      "XVIII. Supplemental Classification\t\t\tV15.88\t\"Falls: risk for, history of\"\r",
      "XVIII. Supplemental Classification\t\t\tV61.09\t\"Family disruption, other\"\r",
      "XVIII. Supplemental Classification\t\t\tV61.9\t\"Family problem, other, unspec.\"\r",
      "XVIII. Supplemental Classification\t\t\tV67.00\t\"Follow-up exam, surgery, unspec.\"\r",
      "XVIII. Supplemental Classification\t\t\tV68.09\t\"Form, other\"\r",
      "XVIII. Supplemental Classification\t\tYes\tV72.31\tGynecological exam\r",
      "XVIII. Supplemental Classification\t\tYes\tV58.69\t\"High-risk medication, long-term use\"\r",
      "XVIII. Supplemental Classification\t\t\tV60.0\tHousing problem/homeless\r",
      "XVIII. Supplemental Classification\t\t\tV06.8\t\"Immunization, combination, other\"\r",
      "XVIII. Supplemental Classification\t\t\tV06.9\t\"Immunization, combination, unspec.\"\r",
      "XVIII. Supplemental Classification\t\t\tV06.1\t\"Immunization, DTP\"\r",
      "XVIII. Supplemental Classification\t\tYes\tV04.81\t\"Immunization, influenza\"\r",
      "XVIII. Supplemental Classification\t\t\tV05.9\t\"Immunization, single, unspec.\"\r",
      "XVIII. Supplemental Classification\t\t\tV62.5\tLegal problem\r",
      "XVIII. Supplemental Classification\t\t\tV71.81\t\"Observation, suspected abuse & neglect\"\r",
      "XVIII. Supplemental Classification\t\t\tV65.11\t\"Pediatric pre-birth visit, expectant parent(s)\"\r",
      "XVIII. Supplemental Classification\t\t\tV65.19\tPerson consulting on behalf of another\r",
      "XVIII. Supplemental Classification\t\t\tV72.84\t\"Pre-op exam, unspec.\"\r",
      "XVIII. Supplemental Classification\t\t\tV61.3\tProblem w/ aged parents or in-laws\r",
      "XVIII. Supplemental Classification\t\t\tV62.9\t\"Psychosocial problem, unspec.\"\r",
      "XVIII. Supplemental Classification\t\t\tV68.81\tReferral w/o exam\r",
      "XVIII. Supplemental Classification\t\t\tV76.51\t\"Screening, cancer, colon\"\r",
      "XVIII. Supplemental Classification\t\t\tV76.9\t\"Screening, cancer, unspec.\"\r",
      "XVIII. Supplemental Classification\t\t\tV81.0\t\"Screening, cardiac disease\"\r",
      "XVIII. Supplemental Classification\t\t\tV77.1\t\"Screening, diabetes\"\r",
      "XVIII. Supplemental Classification\t\t\tV77.91\t\"Screening, lipoid disorders\"\r",
      "XVIII. Supplemental Classification\t\t\tV76.44\t\"Screening, PSA\"\r",
      "XVIII. Supplemental Classification\t\t\tV82.9\t\"Screening, unspec.\"\r",
      "XVIII. Supplemental Classification\t\t\tV62.4\tSocial maladjustment\r",
      "XVIII. Supplemental Classification\t\t\tV25.2\tSterilization\r",
      "XVIII. Supplemental Classification\t\t\tV58.31\tSurgical wound dressing\r",
      "XVIII. Supplemental Classification\t\t\tV58.32\tSuture removal\r",
      "XVIII. Supplemental Classification\t\tYes\tV70.0\tWell adult exam\r",
      "XVIII. Supplemental Classification\t\tYes\tV20.2\tWell child check\r\n"
     ]
    }
   ],
   "source": [
    "%%bash\n",
    "grep -i  chapel ~/DATA/Misc/obits.txt \\\n",
    "~/DATA/Misc/icd9-short.txt"
   ]
  },
  {
   "cell_type": "code",
   "execution_count": null,
   "metadata": {},
   "outputs": [],
   "source": [
    "%%bash\n",
    "grep -i  chapel ~/DATA/Misc/*.txt"
   ]
  },
  {
   "cell_type": "markdown",
   "metadata": {},
   "source": [
    "#### We can search for regular expressions\n",
    "\n",
    "Regular expressions can be quite complicated and there are a variety of flavors of regular expressions.\n",
    "\n",
    "The period (``.``) matches a single character. So if we want to find all the patients in their seventies, we could use a grep expression like the following;"
   ]
  },
  {
   "cell_type": "code",
   "execution_count": 63,
   "metadata": {},
   "outputs": [
    {
     "name": "stderr",
     "output_type": "stream",
     "text": [
      "bash: line 4: 100: Read-only file system\n"
     ]
    }
   ],
   "source": [
    "%%bash\n",
    "#grep '7.-year-old' ~/DATA/Misc/*.txt\n",
    "cd /home/rinterdonato/DATA/Numerics/mimic2/hr/subjects\n",
    "#ls\n",
    "cat 9936.txt | if (( a > b )); then"
   ]
  },
  {
   "cell_type": "markdown",
   "metadata": {},
   "source": [
    "## Exercise\n",
    "In the ``~/DATA/Numerics/mimic2`` directory are a series of directories with numeric physiological data measured from patients in an ICU: ``hr`` (heart rate), ``bp`` (blood pressure), ``uo`` (urine output), ``wbc`` (white blood count). Under each of these directories is another directory named ``subjects`` which contains text files containing the measured values. \n",
    "\n",
    "The naming convention for the filenames is the patient ID (e.g. ``9936``) followed by ``.txt``. Thus ``~/DATA/Numerics/mimic2/hr/subjects/9936.txt`` contains the heart rate measurements for patient \\#9936 while ``~/DATA/Numerics/mimic2/bp/subjects/9936.txt`` contains the blood pressure measurements for the same patient. \n",
    "\n",
    "1. Use ``grep`` and the redirect operator (``>``) to create a file with all the patients that have a heart rate measurement greater than or equal to 200. \n",
    "1. Repeat this to create a file with all the patients that have a blood pressure measurement greater than or equal to 200.\n",
    "1. Use the [``grep -Fx -f``](https://en.wikibooks.org/wiki/Grep) command to create a new file that contains the patients that are in both the heart rate greater than or equal to 200 file and the blood pressure greater than or equal to 200 file.\n",
    "1. Finally, use the [``wc``](https://goo.gl/yhV8AJ) (word count) command with the ``-l`` option to count the number of patients matching both conditions."
   ]
  },
  {
   "cell_type": "code",
   "execution_count": null,
   "metadata": {},
   "outputs": [],
   "source": [
    "bp_hr_ge200()"
   ]
  },
  {
   "cell_type": "code",
   "execution_count": null,
   "metadata": {},
   "outputs": [],
   "source": []
  }
 ],
 "metadata": {
  "kernelspec": {
   "display_name": "Python 3",
   "language": "python",
   "name": "python3"
  },
  "language_info": {
   "codemirror_mode": {
    "name": "ipython",
    "version": 3
   },
   "file_extension": ".py",
   "mimetype": "text/x-python",
   "name": "python",
   "nbconvert_exporter": "python",
   "pygments_lexer": "ipython3",
   "version": "3.5.5"
  }
 },
 "nbformat": 4,
 "nbformat_minor": 1
}
