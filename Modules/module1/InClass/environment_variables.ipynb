{
 "cells": [
  {
   "cell_type": "markdown",
   "metadata": {},
   "source": [
    "## Environment Variables\n",
    "\n",
    ">Environment variables are a set of dynamic named values that can affect the way running processes will behave on a computer.\n",
    "\n",
    ">They are part of the environment in which a process runs. For example, a running process can query the value of the TEMP environment variable to discover a suitable location to store temporary files, or the HOME or USERPROFILE variable to find the directory structure owned by the user running the process.\n",
    "\n",
    ">They were introduced in their modern form in 1979 with Version 7 Unix, so are included in all Unix operating system flavors and variants from that point onward including Linux and OS X. From PC DOS 2.0 in 1982, all succeeding Microsoft operating systems including Microsoft Windows, and OS/2 also have included them as a feature, although with somewhat different syntax, usage and standard variable names. ([Wikipedia](https://en.wikipedia.org/wiki/Environment_variable))\n",
    "\n"
   ]
  },
  {
   "cell_type": "markdown",
   "metadata": {},
   "source": [
    "## Two Important Environment Variables\n",
    "\n",
    "* ``HOME``: contains the home directory for the current user.\n",
    "* ``PATH``: ``PATH`` is the environment variable that tells your computer which directories to search for exectuable programs. I can see the value of a variable by typing ``echo $VARIABLE_NAME``."
   ]
  },
  {
   "cell_type": "code",
   "execution_count": null,
   "metadata": {},
   "outputs": [],
   "source": [
    "%%bash\n",
    "echo $HOME\n",
    "echo $PATH"
   ]
  },
  {
   "cell_type": "markdown",
   "metadata": {},
   "source": [
    "For ``PATH`` what we see is a colon separated list of directories. If I want to run an executable program, for example python, the way ``PATH`` is used is the computer looks in the first directory in ``PATH`` for an executable named ``python``. If it finds it, the program ``python`` in that directory is executed. If it is not found, then it goes to the next directory in ``PATH`` and so on. If all of ``PATH`` is searched and no matching executable is found, you will get an error message: \"CMD: command not found\". I can use the Unix command ``which`` to tell me where in the ``PATH`` a particular program was found. Here are some examples.  "
   ]
  },
  {
   "cell_type": "code",
   "execution_count": 1,
   "metadata": {},
   "outputs": [
    {
     "name": "stdout",
     "output_type": "stream",
     "text": [
      "/opt/conda/bin/python\n"
     ]
    }
   ],
   "source": [
    "%%bash\n",
    "which python"
   ]
  },
  {
   "cell_type": "code",
   "execution_count": 2,
   "metadata": {},
   "outputs": [
    {
     "name": "stdout",
     "output_type": "stream",
     "text": [
      "/usr/bin/awk\n"
     ]
    }
   ],
   "source": [
    "%%bash\n",
    "which awk"
   ]
  },
  {
   "cell_type": "code",
   "execution_count": 3,
   "metadata": {},
   "outputs": [],
   "source": [
    "%%bash\n",
    "which ziggy"
   ]
  },
  {
   "cell_type": "code",
   "execution_count": 4,
   "metadata": {},
   "outputs": [
    {
     "name": "stderr",
     "output_type": "stream",
     "text": [
      "bash: line 1: ziggy: command not found\n"
     ]
    }
   ],
   "source": [
    "%%bash\n",
    "ziggy"
   ]
  },
  {
   "cell_type": "markdown",
   "metadata": {},
   "source": [
    "We can use the ``set`` command to see what environment variables are set."
   ]
  },
  {
   "cell_type": "code",
   "execution_count": 5,
   "metadata": {},
   "outputs": [
    {
     "name": "stdout",
     "output_type": "stream",
     "text": [
      "BASH=/bin/bash\n",
      "BASHOPTS=cmdhist:complete_fullquote:extquote:force_fignore:hostcomplete:interactive_comments:progcomp:promptvars:sourcepath\n",
      "BASH_ALIASES=()\n",
      "BASH_ARGC=()\n",
      "BASH_ARGV=()\n",
      "BASH_CMDS=()\n",
      "BASH_LINENO=()\n",
      "BASH_SOURCE=()\n",
      "BASH_VERSINFO=([0]=\"4\" [1]=\"4\" [2]=\"19\" [3]=\"1\" [4]=\"release\" [5]=\"x86_64-pc-linux-gnu\")\n",
      "BASH_VERSION='4.4.19(1)-release'\n",
      "CLICOLOR=1\n",
      "CONDA_DIR=/opt/conda\n",
      "DEBIAN_FRONTEND=noninteractive\n",
      "DIRSTACK=()\n",
      "EUID=1009\n",
      "GIT_PAGER=cat\n",
      "GROUPS=()\n",
      "HOME=/home/rinterdonato\n",
      "HOSTNAME=09fe37f3fcc4\n",
      "HOSTTYPE=x86_64\n",
      "IFS=$' \\t\\n'\n",
      "JPY_API_TOKEN=aa2606124c6f4892bf0ee6720034ac70\n",
      "JPY_PARENT_PID=27\n",
      "JULIA_PKGDIR=/opt/julia\n",
      "JULIA_VERSION=0.6.2\n",
      "JUPYTERHUB_ADMIN_ACCESS=1\n",
      "JUPYTERHUB_API_TOKEN=aa2606124c6f4892bf0ee6720034ac70\n",
      "JUPYTERHUB_API_URL=http://decart-hub:54321/hub/api\n",
      "JUPYTERHUB_BASE_URL=/\n",
      "JUPYTERHUB_CLIENT_ID=user-rinterdonato\n",
      "JUPYTERHUB_HOST=\n",
      "JUPYTERHUB_OAUTH_CALLBACK_URL=/user/rinterdonato/oauth_callback\n",
      "JUPYTERHUB_SERVICE_PREFIX=/user/rinterdonato/\n",
      "JUPYTERHUB_USER=rinterdonato\n",
      "LANG=en_US.UTF-8\n",
      "LANGUAGE=en_US.UTF-8\n",
      "LC_ALL=en_US.UTF-8\n",
      "LOGNAME=rinterdonato\n",
      "MACHTYPE=x86_64-pc-linux-gnu\n",
      "MINICONDA_VERSION=4.5.4\n",
      "MPLBACKEND=module://ipykernel.pylab.backend_inline\n",
      "NB_GID=100\n",
      "NB_UID=1009\n",
      "NB_USER=rinterdonato\n",
      "OPTERR=1\n",
      "OPTIND=1\n",
      "OSTYPE=linux-gnu\n",
      "PAGER=cat\n",
      "PATH=/opt/conda/bin:/usr/local/sbin:/usr/local/bin:/usr/sbin:/usr/bin:/sbin:/bin\n",
      "PPID=497\n",
      "PS4='+ '\n",
      "PWD=/home/rinterdonato/decart_boot_camp_1_2018/Modules/module1/InClass\n",
      "PYTHONPATH=\n",
      "SHELL=/bin/bash\n",
      "SHELLOPTS=braceexpand:hashall:interactive-comments\n",
      "SHLVL=1\n",
      "SUDO_COMMAND='/opt/conda/bin/jupyterhub-singleuser --ip=0.0.0.0'\n",
      "SUDO_GID=0\n",
      "SUDO_UID=0\n",
      "SUDO_USER=root\n",
      "TERM=xterm-color\n",
      "UID=1009\n",
      "USER=rinterdonato\n",
      "USERNAME=rinterdonato\n",
      "USER_ID=1009\n",
      "XDG_CACHE_HOME=/home/jovyan/.cache/\n",
      "_=bash\n"
     ]
    }
   ],
   "source": [
    "%%bash\n",
    "set"
   ]
  },
  {
   "cell_type": "markdown",
   "metadata": {},
   "source": [
    "#### Note the convetion that environment variables are all uppercase"
   ]
  },
  {
   "cell_type": "markdown",
   "metadata": {},
   "source": [
    "[Here](https://swcarpentry.github.io/shell-extras/08-environment-variables.html) is a very short tutorial that you can look over. You can play around with environment variables within the notebook (as I have done) or by opening a terminal.\n",
    "![Launching a terminal through Jupyter](../../../media/launching_terminal.png)"
   ]
  },
  {
   "cell_type": "markdown",
   "metadata": {},
   "source": [
    "## Creating new Environment Variables\n",
    "\n",
    "I can create an environment variable with a simple assingment. This will be a **local** variable, visible only to the current bash process."
   ]
  },
  {
   "cell_type": "code",
   "execution_count": 6,
   "metadata": {},
   "outputs": [
    {
     "name": "stdout",
     "output_type": "stream",
     "text": [
      "Brian\n",
      "\n",
      "BASH=/bin/bash\n",
      "BASHOPTS=cmdhist:complete_fullquote:extquote:force_fignore:hostcomplete:interactive_comments:progcomp:promptvars:sourcepath\n",
      "BASH_ALIASES=()\n",
      "BASH_ARGC=()\n",
      "BASH_ARGV=()\n",
      "BASH_CMDS=()\n",
      "BASH_LINENO=()\n",
      "BASH_SOURCE=()\n",
      "BASH_VERSINFO=([0]=\"4\" [1]=\"4\" [2]=\"19\" [3]=\"1\" [4]=\"release\" [5]=\"x86_64-pc-linux-gnu\")\n",
      "BASH_VERSION='4.4.19(1)-release'\n",
      "CLICOLOR=1\n",
      "CONDA_DIR=/opt/conda\n",
      "DEBIAN_FRONTEND=noninteractive\n",
      "DIRSTACK=()\n",
      "EUID=1009\n",
      "GIT_PAGER=cat\n",
      "GROUPS=()\n",
      "HOME=/home/rinterdonato\n",
      "HOSTNAME=09fe37f3fcc4\n",
      "HOSTTYPE=x86_64\n",
      "IFS=$' \\t\\n'\n",
      "JPY_API_TOKEN=aa2606124c6f4892bf0ee6720034ac70\n",
      "JPY_PARENT_PID=27\n",
      "JULIA_PKGDIR=/opt/julia\n",
      "JULIA_VERSION=0.6.2\n",
      "JUPYTERHUB_ADMIN_ACCESS=1\n",
      "JUPYTERHUB_API_TOKEN=aa2606124c6f4892bf0ee6720034ac70\n",
      "JUPYTERHUB_API_URL=http://decart-hub:54321/hub/api\n",
      "JUPYTERHUB_BASE_URL=/\n",
      "JUPYTERHUB_CLIENT_ID=user-rinterdonato\n",
      "JUPYTERHUB_HOST=\n",
      "JUPYTERHUB_OAUTH_CALLBACK_URL=/user/rinterdonato/oauth_callback\n",
      "JUPYTERHUB_SERVICE_PREFIX=/user/rinterdonato/\n",
      "JUPYTERHUB_USER=rinterdonato\n",
      "LANG=en_US.UTF-8\n",
      "LANGUAGE=en_US.UTF-8\n",
      "LC_ALL=en_US.UTF-8\n",
      "LOGNAME=rinterdonato\n",
      "MACHTYPE=x86_64-pc-linux-gnu\n",
      "MINICONDA_VERSION=4.5.4\n",
      "MPLBACKEND=module://ipykernel.pylab.backend_inline\n",
      "MYNAME=Brian\n",
      "NB_GID=100\n",
      "NB_UID=1009\n",
      "NB_USER=rinterdonato\n",
      "OPTERR=1\n",
      "OPTIND=1\n",
      "OSTYPE=linux-gnu\n",
      "PAGER=cat\n",
      "PATH=/opt/conda/bin:/usr/local/sbin:/usr/local/bin:/usr/sbin:/usr/bin:/sbin:/bin\n",
      "PIPESTATUS=([0]=\"0\")\n",
      "PPID=497\n",
      "PS4='+ '\n",
      "PWD=/home/rinterdonato/decart_boot_camp_1_2018/Modules/module1/InClass\n",
      "PYTHONPATH=\n",
      "SHELL=/bin/bash\n",
      "SHELLOPTS=braceexpand:hashall:interactive-comments\n",
      "SHLVL=1\n",
      "SUDO_COMMAND='/opt/conda/bin/jupyterhub-singleuser --ip=0.0.0.0'\n",
      "SUDO_GID=0\n",
      "SUDO_UID=0\n",
      "SUDO_USER=root\n",
      "TERM=xterm-color\n",
      "UID=1009\n",
      "USER=rinterdonato\n",
      "USERNAME=rinterdonato\n",
      "USER_ID=1009\n",
      "XDG_CACHE_HOME=/home/jovyan/.cache/\n",
      "_=echo\n",
      "*******************\n",
      "LC_ALL=en_US.UTF-8\n",
      "JUPYTERHUB_CLIENT_ID=user-rinterdonato\n",
      "JUPYTERHUB_ADMIN_ACCESS=1\n",
      "LANG=en_US.UTF-8\n",
      "SUDO_GID=0\n",
      "HOSTNAME=09fe37f3fcc4\n",
      "JULIA_PKGDIR=/opt/julia\n",
      "NB_UID=1009\n",
      "USERNAME=rinterdonato\n",
      "SUDO_COMMAND=/opt/conda/bin/jupyterhub-singleuser --ip=0.0.0.0\n",
      "CONDA_DIR=/opt/conda\n",
      "USER=rinterdonato\n",
      "JUPYTERHUB_BASE_URL=/\n",
      "PAGER=cat\n",
      "JPY_PARENT_PID=27\n",
      "PWD=/home/rinterdonato/decart_boot_camp_1_2018/Modules/module1/InClass\n",
      "HOME=/home/rinterdonato\n",
      "CLICOLOR=1\n",
      "SUDO_USER=root\n",
      "USER_ID=1009\n",
      "JUPYTERHUB_USER=rinterdonato\n",
      "DEBIAN_FRONTEND=noninteractive\n",
      "NB_USER=rinterdonato\n",
      "JULIA_VERSION=0.6.2\n",
      "JUPYTERHUB_SERVICE_PREFIX=/user/rinterdonato/\n",
      "SUDO_UID=0\n",
      "SHELL=/bin/bash\n",
      "TERM=xterm-color\n",
      "MPLBACKEND=module://ipykernel.pylab.backend_inline\n",
      "JUPYTERHUB_API_URL=http://decart-hub:54321/hub/api\n",
      "SHLVL=1\n",
      "LANGUAGE=en_US.UTF-8\n",
      "PYTHONPATH=\n",
      "JUPYTERHUB_HOST=\n",
      "JPY_API_TOKEN=aa2606124c6f4892bf0ee6720034ac70\n",
      "XDG_CACHE_HOME=/home/jovyan/.cache/\n",
      "LOGNAME=rinterdonato\n",
      "JUPYTERHUB_OAUTH_CALLBACK_URL=/user/rinterdonato/oauth_callback\n",
      "NB_GID=100\n",
      "JUPYTERHUB_API_TOKEN=aa2606124c6f4892bf0ee6720034ac70\n",
      "PATH=/opt/conda/bin:/usr/local/sbin:/usr/local/bin:/usr/sbin:/usr/bin:/sbin:/bin\n",
      "MINICONDA_VERSION=4.5.4\n",
      "GIT_PAGER=cat\n",
      "_=/usr/bin/env\n"
     ]
    }
   ],
   "source": [
    "%%bash\n",
    "MYNAME=Brian\n",
    "echo $MYNAME\n",
    "echo\n",
    "set \n",
    "echo \"*******************\"\n",
    "env \n"
   ]
  },
  {
   "cell_type": "markdown",
   "metadata": {},
   "source": [
    "## Exporting an environment variable\n",
    "\n",
    "If I want to make a variable accessible to child processes, I need to **export** that variable. Exporting variables would be our standard practice.\n"
   ]
  },
  {
   "cell_type": "code",
   "execution_count": 7,
   "metadata": {},
   "outputs": [
    {
     "name": "stdout",
     "output_type": "stream",
     "text": [
      "Brian\n",
      "\n",
      "LC_ALL=en_US.UTF-8\n",
      "JUPYTERHUB_CLIENT_ID=user-rinterdonato\n",
      "JUPYTERHUB_ADMIN_ACCESS=1\n",
      "LANG=en_US.UTF-8\n",
      "SUDO_GID=0\n",
      "HOSTNAME=09fe37f3fcc4\n",
      "JULIA_PKGDIR=/opt/julia\n",
      "NB_UID=1009\n",
      "USERNAME=rinterdonato\n",
      "SUDO_COMMAND=/opt/conda/bin/jupyterhub-singleuser --ip=0.0.0.0\n",
      "CONDA_DIR=/opt/conda\n",
      "MYNAME=Brian\n",
      "USER=rinterdonato\n",
      "JUPYTERHUB_BASE_URL=/\n",
      "PAGER=cat\n",
      "JPY_PARENT_PID=27\n",
      "PWD=/home/rinterdonato/decart_boot_camp_1_2018/Modules/module1/InClass\n",
      "HOME=/home/rinterdonato\n",
      "CLICOLOR=1\n",
      "SUDO_USER=root\n",
      "USER_ID=1009\n",
      "JUPYTERHUB_USER=rinterdonato\n",
      "DEBIAN_FRONTEND=noninteractive\n",
      "NB_USER=rinterdonato\n",
      "JULIA_VERSION=0.6.2\n",
      "JUPYTERHUB_SERVICE_PREFIX=/user/rinterdonato/\n",
      "SUDO_UID=0\n",
      "SHELL=/bin/bash\n",
      "TERM=xterm-color\n",
      "MPLBACKEND=module://ipykernel.pylab.backend_inline\n",
      "JUPYTERHUB_API_URL=http://decart-hub:54321/hub/api\n",
      "SHLVL=1\n",
      "LANGUAGE=en_US.UTF-8\n",
      "PYTHONPATH=\n",
      "JUPYTERHUB_HOST=\n",
      "JPY_API_TOKEN=aa2606124c6f4892bf0ee6720034ac70\n",
      "XDG_CACHE_HOME=/home/jovyan/.cache/\n",
      "LOGNAME=rinterdonato\n",
      "JUPYTERHUB_OAUTH_CALLBACK_URL=/user/rinterdonato/oauth_callback\n",
      "NB_GID=100\n",
      "JUPYTERHUB_API_TOKEN=aa2606124c6f4892bf0ee6720034ac70\n",
      "PATH=/opt/conda/bin:/usr/local/sbin:/usr/local/bin:/usr/sbin:/usr/bin:/sbin:/bin\n",
      "MINICONDA_VERSION=4.5.4\n",
      "GIT_PAGER=cat\n",
      "_=/usr/bin/env\n"
     ]
    }
   ],
   "source": [
    "%%bash\n",
    "export MYNAME=Brian\n",
    "echo $MYNAME\n",
    "echo\n",
    "env"
   ]
  },
  {
   "cell_type": "markdown",
   "metadata": {},
   "source": [
    "### All these changes are local\n",
    "#### If I start a different shell, ``MYNAME`` will not be defined"
   ]
  },
  {
   "cell_type": "code",
   "execution_count": 8,
   "metadata": {},
   "outputs": [
    {
     "name": "stdout",
     "output_type": "stream",
     "text": [
      "\n"
     ]
    }
   ],
   "source": [
    "%%bash\n",
    "echo $MYNAME"
   ]
  },
  {
   "cell_type": "markdown",
   "metadata": {},
   "source": [
    "## Modifying Existing Environment Variables\n",
    "\n",
    "The environment variable are mutable (they can change). This should be done cautiously, as you can easily render your system unusable."
   ]
  },
  {
   "cell_type": "code",
   "execution_count": 9,
   "metadata": {},
   "outputs": [
    {
     "name": "stdout",
     "output_type": "stream",
     "text": [
      "/home/rinterdonato\n",
      "\n",
      "/somwhere\n"
     ]
    }
   ],
   "source": [
    "%%bash\n",
    "echo $HOME\n",
    "echo\n",
    "HOME=/somwhere\n",
    "echo $HOME"
   ]
  },
  {
   "cell_type": "code",
   "execution_count": 10,
   "metadata": {},
   "outputs": [
    {
     "name": "stdout",
     "output_type": "stream",
     "text": [
      "/home/rinterdonato\n"
     ]
    },
    {
     "name": "stderr",
     "output_type": "stream",
     "text": [
      "bash: line 2: ls: command not found\n",
      "bash: line 3: cat: command not found\n",
      "bash: line 4: python: command not found\n",
      "bash: line 5: which: command not found\n"
     ]
    }
   ],
   "source": [
    "%%bash\n",
    "PATH=$HOME/bin:$HOME/DATA\n",
    "ls\n",
    "cat ~/.bashrc\n",
    "python\n",
    "which\n",
    "cd ~\n",
    "pwd"
   ]
  },
  {
   "cell_type": "markdown",
   "metadata": {},
   "source": [
    "By changing the PATH variable, we have lost access to most of the Linux functions (e.g. ls, cat)"
   ]
  },
  {
   "cell_type": "markdown",
   "metadata": {},
   "source": [
    "### Modifying ``PATH``\n",
    "\n",
    "As described above, ``PATH`` is the variable that stores the list of directories that the operating system searches for executable programs. The way we will typically modify ``PATH`` is by pre-pending or appending directories to the existing ``PATH`` list. Pre-pending and appending can have radically different effects."
   ]
  },
  {
   "cell_type": "code",
   "execution_count": 11,
   "metadata": {},
   "outputs": [
    {
     "name": "stderr",
     "output_type": "stream",
     "text": [
      "rm: cannot remove '/home/rinterdonato/bin': No such file or directory\n"
     ]
    }
   ],
   "source": [
    "%%bash\n",
    "rm -r ~/bin\n",
    "mkdir ~/bin\n",
    "cp ./ls ~/bin/.\n",
    "chmod +x ~/bin/ls"
   ]
  },
  {
   "cell_type": "code",
   "execution_count": 12,
   "metadata": {},
   "outputs": [
    {
     "name": "stdout",
     "output_type": "stream",
     "text": [
      "hello\n"
     ]
    }
   ],
   "source": [
    "%%bash\n",
    "~/bin/ls"
   ]
  },
  {
   "cell_type": "code",
   "execution_count": 13,
   "metadata": {},
   "outputs": [
    {
     "name": "stdout",
     "output_type": "stream",
     "text": [
      "/bin/ls\n"
     ]
    }
   ],
   "source": [
    "%%bash\n",
    "which ls"
   ]
  },
  {
   "cell_type": "markdown",
   "metadata": {},
   "source": [
    "#### Now let's modify path by pre-pending ``~/bin``"
   ]
  },
  {
   "cell_type": "code",
   "execution_count": 14,
   "metadata": {},
   "outputs": [
    {
     "name": "stdout",
     "output_type": "stream",
     "text": [
      "\n",
      "/home/rinterdonato/bin/ls\n",
      "\n",
      "hello\n"
     ]
    }
   ],
   "source": [
    "%%bash\n",
    "\n",
    "PATH=$HOME/bin:$PATH\n",
    "echo\n",
    "\n",
    "which ls\n",
    "echo\n",
    "ls ~/DATA/Misc\n"
   ]
  },
  {
   "cell_type": "code",
   "execution_count": 15,
   "metadata": {},
   "outputs": [
    {
     "name": "stdout",
     "output_type": "stream",
     "text": [
      "/opt/conda/bin:/usr/local/sbin:/usr/local/bin:/usr/sbin:/usr/bin:/sbin:/bin\n",
      "/bin/ls\n",
      "Accidents7904.csv\n",
      "bmi_faculty_papers_details.json\n",
      "carotid.txt\n",
      "doid.obo\n",
      "icd9-short.txt\n",
      "obits.txt\n",
      "pah_comorbidities.txt\n",
      "seinfeldFood.sqlite\n"
     ]
    }
   ],
   "source": [
    "%%bash\n",
    "echo $PATH\n",
    "export PATH=$PATH:$HOME/bin\n",
    "which ls\n",
    "ls ~/DATA/Misc\n"
   ]
  },
  {
   "cell_type": "code",
   "execution_count": 16,
   "metadata": {},
   "outputs": [
    {
     "name": "stdout",
     "output_type": "stream",
     "text": [
      "/opt/conda/bin:/usr/local/sbin:/usr/local/bin:/usr/sbin:/usr/bin:/sbin:/bin\n"
     ]
    }
   ],
   "source": [
    "%%bash\n",
    "echo $PATH"
   ]
  },
  {
   "cell_type": "code",
   "execution_count": null,
   "metadata": {},
   "outputs": [],
   "source": []
  },
  {
   "cell_type": "code",
   "execution_count": null,
   "metadata": {},
   "outputs": [],
   "source": []
  }
 ],
 "metadata": {
  "kernelspec": {
   "display_name": "Python 3",
   "language": "python",
   "name": "python3"
  },
  "language_info": {
   "codemirror_mode": {
    "name": "ipython",
    "version": 3
   },
   "file_extension": ".py",
   "mimetype": "text/x-python",
   "name": "python",
   "nbconvert_exporter": "python",
   "pygments_lexer": "ipython3",
   "version": "3.5.5"
  }
 },
 "nbformat": 4,
 "nbformat_minor": 1
}
